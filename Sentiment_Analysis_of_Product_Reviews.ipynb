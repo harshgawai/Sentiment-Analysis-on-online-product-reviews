{
 "cells": [
  {
   "cell_type": "markdown",
   "metadata": {
    "id": "MLLNxER48gv8"
   },
   "source": [
    "# Imports"
   ]
  },
  {
   "cell_type": "code",
   "execution_count": 78,
   "metadata": {
    "id": "LeGD1Daq8tW3"
   },
   "outputs": [],
   "source": [
    "import datetime\n",
    "import speech_recognition as sr\n",
    "import pyaudio\n",
    "import pandas as pd\n",
    "import re\n",
    "import nltk\n",
    "from nltk.corpus import stopwords\n",
    "import numpy as np\n",
    "import spacy\n",
    "from textblob import TextBlob\n",
    "import en_core_web_sm\n",
    "import pyttsx3\n",
    "from nltk import chunk\n",
    "from nltk.tag import DefaultTagger\n",
    "from sklearn.feature_extraction.text import CountVectorizer\n",
    "from keras.preprocessing.text import Tokenizer, text_to_word_sequence\n",
    "from sklearn.preprocessing import LabelEncoder\n",
    "from sklearn.model_selection import train_test_split\n",
    "from collections import Counter\n",
    "import matplotlib.pyplot as plt\n",
    "from sklearn.feature_extraction.text import TfidfVectorizer\n",
    "from sklearn.tree import DecisionTreeClassifier\n",
    "from sklearn.metrics import f1_score\n",
    "from sklearn import metrics\n",
    "from scipy.spatial import distance"
   ]
  },
  {
   "cell_type": "markdown",
   "metadata": {
    "id": "ip6sVuWW8XKT"
   },
   "source": [
    "# Reading Data and Data Preprocessing"
   ]
  },
  {
   "cell_type": "code",
   "execution_count": 158,
   "metadata": {
    "id": "pPKD_iTl8mcl"
   },
   "outputs": [
    {
     "name": "stdout",
     "output_type": "stream",
     "text": [
      "0                                            value money\n",
      "1                                 superb picture quality\n",
      "2      deep detail tv photo upload share whole hardwa...\n",
      "3      first thank flipkart second one hisense review...\n",
      "4      give review two day use happy product flipkart...\n",
      "                             ...                        \n",
      "813                              good product much noise\n",
      "814                                                 okay\n",
      "815                                         nice product\n",
      "816                                         good quality\n",
      "817            good product powerful clean happy product\n",
      "Name: Reviews, Length: 802, dtype: object\n"
     ]
    }
   ],
   "source": [
    "df = pd.read_csv(\"product_reviews_labelled_dataset2.csv\")\n",
    "df_ner = df.copy()\n",
    "df=df[df[\"Sentiments\"]!=\"neutral\"].copy()\n",
    "le = LabelEncoder()\n",
    "df[\"labels\"] = le.fit_transform(df[\"Sentiments\"])\n",
    "item_list = set(df[\"Name\"])\n",
    "nlp = spacy.load('en_core_web_sm', disable=['parser', 'ner'])\n",
    "def preprocess(all_reviews):\n",
    "    reviews = []\n",
    "    for i in all_reviews:\n",
    "        letters_only = re.sub(\"[^a-zA-Z]\", \" \", i)\n",
    "        words = letters_only.lower().split()\n",
    "        stops = set(stopwords.words('english'))\n",
    "        removed_s_words = [w for w in words if not w in stops]\n",
    "        doc = nlp(\" \".join(removed_s_words))\n",
    "        text = \" \".join([word.lemma_ if word.lemma_ != \"-PRON-\" else word.text for word in doc ])\n",
    "        reviews.append(text)\n",
    "    return reviews\n",
    "df[\"Reviews\"] = preprocess(df[\"Reviews\"])\n",
    "df.drop(df.columns[0], axis = 1, inplace=True)\n",
    "df_ner[\"Reviews\"] = preprocess(df_ner[\"Reviews\"])\n",
    "df_ner.drop(df_ner.columns[0], axis = 1, inplace=True)\n",
    "print(df[\"Reviews\"])"
   ]
  },
  {
   "cell_type": "markdown",
   "metadata": {},
   "source": [
    "# Exploratory Data Analysis"
   ]
  },
  {
   "cell_type": "code",
   "execution_count": 8,
   "metadata": {},
   "outputs": [
    {
     "data": {
      "text/html": [
       "<style  type=\"text/css\" >\n",
       "    #T_dd390f28_9710_11eb_a737_c85b76f766f7row0_col1 {\n",
       "            background-color:  #00441b;\n",
       "            color:  #f1f1f1;\n",
       "        }    #T_dd390f28_9710_11eb_a737_c85b76f766f7row1_col1 {\n",
       "            background-color:  #83cb82;\n",
       "            color:  #000000;\n",
       "        }    #T_dd390f28_9710_11eb_a737_c85b76f766f7row2_col1 {\n",
       "            background-color:  #88ce87;\n",
       "            color:  #000000;\n",
       "        }    #T_dd390f28_9710_11eb_a737_c85b76f766f7row3_col1 {\n",
       "            background-color:  #aadda4;\n",
       "            color:  #000000;\n",
       "        }    #T_dd390f28_9710_11eb_a737_c85b76f766f7row4_col1 {\n",
       "            background-color:  #d4eece;\n",
       "            color:  #000000;\n",
       "        }    #T_dd390f28_9710_11eb_a737_c85b76f766f7row5_col1 {\n",
       "            background-color:  #e3f4de;\n",
       "            color:  #000000;\n",
       "        }    #T_dd390f28_9710_11eb_a737_c85b76f766f7row6_col1 {\n",
       "            background-color:  #e8f6e3;\n",
       "            color:  #000000;\n",
       "        }    #T_dd390f28_9710_11eb_a737_c85b76f766f7row7_col1 {\n",
       "            background-color:  #e9f7e5;\n",
       "            color:  #000000;\n",
       "        }    #T_dd390f28_9710_11eb_a737_c85b76f766f7row8_col1 {\n",
       "            background-color:  #ebf7e7;\n",
       "            color:  #000000;\n",
       "        }    #T_dd390f28_9710_11eb_a737_c85b76f766f7row9_col1 {\n",
       "            background-color:  #ebf7e7;\n",
       "            color:  #000000;\n",
       "        }    #T_dd390f28_9710_11eb_a737_c85b76f766f7row10_col1 {\n",
       "            background-color:  #edf8ea;\n",
       "            color:  #000000;\n",
       "        }    #T_dd390f28_9710_11eb_a737_c85b76f766f7row11_col1 {\n",
       "            background-color:  #f0f9ed;\n",
       "            color:  #000000;\n",
       "        }    #T_dd390f28_9710_11eb_a737_c85b76f766f7row12_col1 {\n",
       "            background-color:  #f1faee;\n",
       "            color:  #000000;\n",
       "        }    #T_dd390f28_9710_11eb_a737_c85b76f766f7row13_col1 {\n",
       "            background-color:  #f2faf0;\n",
       "            color:  #000000;\n",
       "        }    #T_dd390f28_9710_11eb_a737_c85b76f766f7row14_col1 {\n",
       "            background-color:  #f4fbf1;\n",
       "            color:  #000000;\n",
       "        }    #T_dd390f28_9710_11eb_a737_c85b76f766f7row15_col1 {\n",
       "            background-color:  #f5fbf3;\n",
       "            color:  #000000;\n",
       "        }    #T_dd390f28_9710_11eb_a737_c85b76f766f7row16_col1 {\n",
       "            background-color:  #f6fcf4;\n",
       "            color:  #000000;\n",
       "        }    #T_dd390f28_9710_11eb_a737_c85b76f766f7row17_col1 {\n",
       "            background-color:  #f7fcf5;\n",
       "            color:  #000000;\n",
       "        }    #T_dd390f28_9710_11eb_a737_c85b76f766f7row18_col1 {\n",
       "            background-color:  #f7fcf5;\n",
       "            color:  #000000;\n",
       "        }    #T_dd390f28_9710_11eb_a737_c85b76f766f7row19_col1 {\n",
       "            background-color:  #f7fcf5;\n",
       "            color:  #000000;\n",
       "        }</style><table id=\"T_dd390f28_9710_11eb_a737_c85b76f766f7\" ><thead>    <tr>        <th class=\"blank level0\" ></th>        <th class=\"col_heading level0 col0\" >Common Words</th>        <th class=\"col_heading level0 col1\" >count</th>    </tr></thead><tbody>\n",
       "                <tr>\n",
       "                        <th id=\"T_dd390f28_9710_11eb_a737_c85b76f766f7level0_row0\" class=\"row_heading level0 row0\" >0</th>\n",
       "                        <td id=\"T_dd390f28_9710_11eb_a737_c85b76f766f7row0_col0\" class=\"data row0 col0\" >good</td>\n",
       "                        <td id=\"T_dd390f28_9710_11eb_a737_c85b76f766f7row0_col1\" class=\"data row0 col1\" >889</td>\n",
       "            </tr>\n",
       "            <tr>\n",
       "                        <th id=\"T_dd390f28_9710_11eb_a737_c85b76f766f7level0_row1\" class=\"row_heading level0 row1\" >1</th>\n",
       "                        <td id=\"T_dd390f28_9710_11eb_a737_c85b76f766f7row1_col0\" class=\"data row1 col0\" >quality</td>\n",
       "                        <td id=\"T_dd390f28_9710_11eb_a737_c85b76f766f7row1_col1\" class=\"data row1 col1\" >468</td>\n",
       "            </tr>\n",
       "            <tr>\n",
       "                        <th id=\"T_dd390f28_9710_11eb_a737_c85b76f766f7level0_row2\" class=\"row_heading level0 row2\" >2</th>\n",
       "                        <td id=\"T_dd390f28_9710_11eb_a737_c85b76f766f7row2_col0\" class=\"data row2 col0\" >product</td>\n",
       "                        <td id=\"T_dd390f28_9710_11eb_a737_c85b76f766f7row2_col1\" class=\"data row2 col1\" >456</td>\n",
       "            </tr>\n",
       "            <tr>\n",
       "                        <th id=\"T_dd390f28_9710_11eb_a737_c85b76f766f7level0_row3\" class=\"row_heading level0 row3\" >3</th>\n",
       "                        <td id=\"T_dd390f28_9710_11eb_a737_c85b76f766f7row3_col0\" class=\"data row3 col0\" >sound</td>\n",
       "                        <td id=\"T_dd390f28_9710_11eb_a737_c85b76f766f7row3_col1\" class=\"data row3 col1\" >382</td>\n",
       "            </tr>\n",
       "            <tr>\n",
       "                        <th id=\"T_dd390f28_9710_11eb_a737_c85b76f766f7level0_row4\" class=\"row_heading level0 row4\" >4</th>\n",
       "                        <td id=\"T_dd390f28_9710_11eb_a737_c85b76f766f7row4_col0\" class=\"data row4 col0\" >tv</td>\n",
       "                        <td id=\"T_dd390f28_9710_11eb_a737_c85b76f766f7row4_col1\" class=\"data row4 col1\" >265</td>\n",
       "            </tr>\n",
       "            <tr>\n",
       "                        <th id=\"T_dd390f28_9710_11eb_a737_c85b76f766f7level0_row5\" class=\"row_heading level0 row5\" >5</th>\n",
       "                        <td id=\"T_dd390f28_9710_11eb_a737_c85b76f766f7row5_col0\" class=\"data row5 col0\" >use</td>\n",
       "                        <td id=\"T_dd390f28_9710_11eb_a737_c85b76f766f7row5_col1\" class=\"data row5 col1\" >217</td>\n",
       "            </tr>\n",
       "            <tr>\n",
       "                        <th id=\"T_dd390f28_9710_11eb_a737_c85b76f766f7level0_row6\" class=\"row_heading level0 row6\" >6</th>\n",
       "                        <td id=\"T_dd390f28_9710_11eb_a737_c85b76f766f7row6_col0\" class=\"data row6 col0\" >price</td>\n",
       "                        <td id=\"T_dd390f28_9710_11eb_a737_c85b76f766f7row6_col1\" class=\"data row6 col1\" >194</td>\n",
       "            </tr>\n",
       "            <tr>\n",
       "                        <th id=\"T_dd390f28_9710_11eb_a737_c85b76f766f7level0_row7\" class=\"row_heading level0 row7\" >7</th>\n",
       "                        <td id=\"T_dd390f28_9710_11eb_a737_c85b76f766f7row7_col0\" class=\"data row7 col0\" >bass</td>\n",
       "                        <td id=\"T_dd390f28_9710_11eb_a737_c85b76f766f7row7_col1\" class=\"data row7 col1\" >186</td>\n",
       "            </tr>\n",
       "            <tr>\n",
       "                        <th id=\"T_dd390f28_9710_11eb_a737_c85b76f766f7level0_row8\" class=\"row_heading level0 row8\" >8</th>\n",
       "                        <td id=\"T_dd390f28_9710_11eb_a737_c85b76f766f7row8_col0\" class=\"data row8 col0\" >nice</td>\n",
       "                        <td id=\"T_dd390f28_9710_11eb_a737_c85b76f766f7row8_col1\" class=\"data row8 col1\" >179</td>\n",
       "            </tr>\n",
       "            <tr>\n",
       "                        <th id=\"T_dd390f28_9710_11eb_a737_c85b76f766f7level0_row9\" class=\"row_heading level0 row9\" >9</th>\n",
       "                        <td id=\"T_dd390f28_9710_11eb_a737_c85b76f766f7row9_col0\" class=\"data row9 col0\" >also</td>\n",
       "                        <td id=\"T_dd390f28_9710_11eb_a737_c85b76f766f7row9_col1\" class=\"data row9 col1\" >177</td>\n",
       "            </tr>\n",
       "            <tr>\n",
       "                        <th id=\"T_dd390f28_9710_11eb_a737_c85b76f766f7level0_row10\" class=\"row_heading level0 row10\" >10</th>\n",
       "                        <td id=\"T_dd390f28_9710_11eb_a737_c85b76f766f7row10_col0\" class=\"data row10 col0\" >one</td>\n",
       "                        <td id=\"T_dd390f28_9710_11eb_a737_c85b76f766f7row10_col1\" class=\"data row10 col1\" >164</td>\n",
       "            </tr>\n",
       "            <tr>\n",
       "                        <th id=\"T_dd390f28_9710_11eb_a737_c85b76f766f7level0_row11\" class=\"row_heading level0 row11\" >11</th>\n",
       "                        <td id=\"T_dd390f28_9710_11eb_a737_c85b76f766f7row11_col0\" class=\"data row11 col0\" >well</td>\n",
       "                        <td id=\"T_dd390f28_9710_11eb_a737_c85b76f766f7row11_col1\" class=\"data row11 col1\" >150</td>\n",
       "            </tr>\n",
       "            <tr>\n",
       "                        <th id=\"T_dd390f28_9710_11eb_a737_c85b76f766f7level0_row12\" class=\"row_heading level0 row12\" >12</th>\n",
       "                        <td id=\"T_dd390f28_9710_11eb_a737_c85b76f766f7row12_col0\" class=\"data row12 col0\" >picture</td>\n",
       "                        <td id=\"T_dd390f28_9710_11eb_a737_c85b76f766f7row12_col1\" class=\"data row12 col1\" >143</td>\n",
       "            </tr>\n",
       "            <tr>\n",
       "                        <th id=\"T_dd390f28_9710_11eb_a737_c85b76f766f7level0_row13\" class=\"row_heading level0 row13\" >13</th>\n",
       "                        <td id=\"T_dd390f28_9710_11eb_a737_c85b76f766f7row13_col0\" class=\"data row13 col0\" >battery</td>\n",
       "                        <td id=\"T_dd390f28_9710_11eb_a737_c85b76f766f7row13_col1\" class=\"data row13 col1\" >139</td>\n",
       "            </tr>\n",
       "            <tr>\n",
       "                        <th id=\"T_dd390f28_9710_11eb_a737_c85b76f766f7level0_row14\" class=\"row_heading level0 row14\" >14</th>\n",
       "                        <td id=\"T_dd390f28_9710_11eb_a737_c85b76f766f7row14_col0\" class=\"data row14 col0\" >awesome</td>\n",
       "                        <td id=\"T_dd390f28_9710_11eb_a737_c85b76f766f7row14_col1\" class=\"data row14 col1\" >133</td>\n",
       "            </tr>\n",
       "            <tr>\n",
       "                        <th id=\"T_dd390f28_9710_11eb_a737_c85b76f766f7level0_row15\" class=\"row_heading level0 row15\" >15</th>\n",
       "                        <td id=\"T_dd390f28_9710_11eb_a737_c85b76f766f7row15_col0\" class=\"data row15 col0\" >like</td>\n",
       "                        <td id=\"T_dd390f28_9710_11eb_a737_c85b76f766f7row15_col1\" class=\"data row15 col1\" >124</td>\n",
       "            </tr>\n",
       "            <tr>\n",
       "                        <th id=\"T_dd390f28_9710_11eb_a737_c85b76f766f7level0_row16\" class=\"row_heading level0 row16\" >16</th>\n",
       "                        <td id=\"T_dd390f28_9710_11eb_a737_c85b76f766f7row16_col0\" class=\"data row16 col0\" >work</td>\n",
       "                        <td id=\"T_dd390f28_9710_11eb_a737_c85b76f766f7row16_col1\" class=\"data row16 col1\" >116</td>\n",
       "            </tr>\n",
       "            <tr>\n",
       "                        <th id=\"T_dd390f28_9710_11eb_a737_c85b76f766f7level0_row17\" class=\"row_heading level0 row17\" >17</th>\n",
       "                        <td id=\"T_dd390f28_9710_11eb_a737_c85b76f766f7row17_col0\" class=\"data row17 col0\" >buy</td>\n",
       "                        <td id=\"T_dd390f28_9710_11eb_a737_c85b76f766f7row17_col1\" class=\"data row17 col1\" >115</td>\n",
       "            </tr>\n",
       "            <tr>\n",
       "                        <th id=\"T_dd390f28_9710_11eb_a737_c85b76f766f7level0_row18\" class=\"row_heading level0 row18\" >18</th>\n",
       "                        <td id=\"T_dd390f28_9710_11eb_a737_c85b76f766f7row18_col0\" class=\"data row18 col0\" >flipkart</td>\n",
       "                        <td id=\"T_dd390f28_9710_11eb_a737_c85b76f766f7row18_col1\" class=\"data row18 col1\" >113</td>\n",
       "            </tr>\n",
       "            <tr>\n",
       "                        <th id=\"T_dd390f28_9710_11eb_a737_c85b76f766f7level0_row19\" class=\"row_heading level0 row19\" >19</th>\n",
       "                        <td id=\"T_dd390f28_9710_11eb_a737_c85b76f766f7row19_col0\" class=\"data row19 col0\" >great</td>\n",
       "                        <td id=\"T_dd390f28_9710_11eb_a737_c85b76f766f7row19_col1\" class=\"data row19 col1\" >112</td>\n",
       "            </tr>\n",
       "    </tbody></table>"
      ],
      "text/plain": [
       "<pandas.io.formats.style.Styler at 0x266eeb99b38>"
      ]
     },
     "execution_count": 8,
     "metadata": {},
     "output_type": "execute_result"
    }
   ],
   "source": [
    "df['temp_list'] = df[\"Reviews\"].apply(lambda x:str(x).split())\n",
    "top = Counter([item for sublist in df['temp_list'] for item in sublist])\n",
    "temp = pd.DataFrame(top.most_common(20))\n",
    "temp.columns = ['Common Words','count']\n",
    "temp.style.background_gradient(cmap='Greens')"
   ]
  },
  {
   "cell_type": "code",
   "execution_count": 137,
   "metadata": {},
   "outputs": [
    {
     "name": "stdout",
     "output_type": "stream",
     "text": [
      "\n"
     ]
    },
    {
     "data": {
      "image/png": "[encoded data removed]",
      "text/plain": [
       "<Figure size 432x288 with 1 Axes>"
      ]
     },
     "metadata": {
      "needs_background": "light"
     },
     "output_type": "display_data"
    }
   ],
   "source": [
    "print()\n",
    "x = list(df[\"Sentiments\"].unique())\n",
    "y = list(df[\"Sentiments\"].value_counts())\n",
    "\n",
    "fig = plt.figure()\n",
    "ax = fig.add_axes([0,0,1,1])\n",
    "ax.bar(x,y)\n",
    "plt.show()"
   ]
  },
  {
   "cell_type": "markdown",
   "metadata": {},
   "source": [
    "# Training Amazon Reviews data using Decision Tree and testing it on flipkart data"
   ]
  },
  {
   "cell_type": "code",
   "execution_count": 16,
   "metadata": {},
   "outputs": [
    {
     "name": "stdout",
     "output_type": "stream",
     "text": [
      "                                                  Reviews  Sentiment\n",
      "394349  Very good one! Better than Samsung S and iphon...          1\n",
      "34377   The phone needed a SIM card, would have been n...          0\n",
      "248521  I was 3 months away from my upgrade and my Str...          1\n",
      "167661                     an experience i want to forget          0\n",
      "73287         GREAT PHONE WORK ACCORDING MY EXPECTATIONS.          1\n",
      "...                                                   ...        ...\n",
      "92271   Todo el proceso fue un exito cumplieron al pie...          1\n",
      "139487  Although I received this item in good shape, a...          0\n",
      "16575                                    It is acceptable          0\n",
      "336446  I purchased this for my wife for our anniversa...          1\n",
      "312945  Really nice phone. Better than expected. Came ...          1\n",
      "\n",
      "[37237 rows x 2 columns]\n"
     ]
    }
   ],
   "source": [
    "data = pd.read_csv('Amazon_Unlocked_Mobile.csv')\n",
    "data['Sentiment'] = np.where(data['Rating'] > 3, 1, 0)\n",
    "data=data.sample(frac=0.09,random_state=10)\n",
    "\n",
    "data = data[[\"Reviews\",\"Sentiment\"]]\n",
    "data = data.dropna()\n",
    "print(data)\n",
    "nlp = spacy.load('en_core_web_sm', disable=['parser', 'ner'])"
   ]
  },
  {
   "cell_type": "code",
   "execution_count": 21,
   "metadata": {},
   "outputs": [
    {
     "name": "stdout",
     "output_type": "stream",
     "text": [
      "37237\n"
     ]
    }
   ],
   "source": [
    "data[\"Reviews\"] = preprocess(data[\"Reviews\"])"
   ]
  },
  {
   "cell_type": "code",
   "execution_count": 98,
   "metadata": {},
   "outputs": [
    {
     "name": "stdout",
     "output_type": "stream",
     "text": [
      "       0    1    2    3    4    5    6    7    8    9    ...  990  991  992  \\\n",
      "0        0    0    0    0    0    0    0    0    0    0  ...    0    0    0   \n",
      "1        0    0    0    0    0    0    0    0    0    0  ...    0    0    0   \n",
      "2        0    0    0    0    0    0    0    0    0    0  ...    0    0    0   \n",
      "3        0    0    0    0    0    0    0    0    0    0  ...    0    0    0   \n",
      "4        0    0    0    0    0    0    0    0    0    0  ...    0    0    0   \n",
      "...    ...  ...  ...  ...  ...  ...  ...  ...  ...  ...  ...  ...  ...  ...   \n",
      "37232    0    0    0    0    0    0    0    0    0    0  ...    0    0    0   \n",
      "37233    0    0    0    0    0    0    0    0    0    0  ...    0    0    0   \n",
      "37234    0    0    0    0    0    0    0    0    0    0  ...    0    0    0   \n",
      "37235    0    0    0    0    0    0    0    0    0    0  ...    0    0    0   \n",
      "37236    0    0    0    0    0    0    0    0    0    0  ...    0    0    0   \n",
      "\n",
      "       993  994  995  996  997  998  999  \n",
      "0        0    0    0    0    0    0    0  \n",
      "1        0    0    0    0    0    0    0  \n",
      "2        0    0    0    0    0    0    0  \n",
      "3        0    0    0    0    0    0    0  \n",
      "4        0    0    0    0    0    0    0  \n",
      "...    ...  ...  ...  ...  ...  ...  ...  \n",
      "37232    0    0    0    0    0    0    0  \n",
      "37233    0    0    0    0    0    0    0  \n",
      "37234    0    0    0    0    0    0    0  \n",
      "37235    0    0    0    0    0    0    0  \n",
      "37236    0    0    0    0    0    0    0  \n",
      "\n",
      "[37237 rows x 1000 columns]\n"
     ]
    }
   ],
   "source": [
    "bow_vectorizer = CountVectorizer(max_df=0.90, min_df=2, max_features=1000, stop_words='english',ngram_range=(1,2)).fit(data[\"Reviews\"])\n",
    "\n",
    "# bag-of-words feature matrix\n",
    "bow = bow_vectorizer.transform(data['Reviews'])\n",
    "\n",
    "df_bow = pd.DataFrame(bow.todense())\n",
    "print(df_bow)"
   ]
  },
  {
   "cell_type": "code",
   "execution_count": 170,
   "metadata": {},
   "outputs": [
    {
     "name": "stdout",
     "output_type": "stream",
     "text": [
      "       0    1    2    3    4    5    6    7    8    9    ...  990  991  992  \\\n",
      "0      0.0  0.0  0.0  0.0  0.0  0.0  0.0  0.0  0.0  0.0  ...  0.0  0.0  0.0   \n",
      "1      0.0  0.0  0.0  0.0  0.0  0.0  0.0  0.0  0.0  0.0  ...  0.0  0.0  0.0   \n",
      "2      0.0  0.0  0.0  0.0  0.0  0.0  0.0  0.0  0.0  0.0  ...  0.0  0.0  0.0   \n",
      "3      0.0  0.0  0.0  0.0  0.0  0.0  0.0  0.0  0.0  0.0  ...  0.0  0.0  0.0   \n",
      "4      0.0  0.0  0.0  0.0  0.0  0.0  0.0  0.0  0.0  0.0  ...  0.0  0.0  0.0   \n",
      "...    ...  ...  ...  ...  ...  ...  ...  ...  ...  ...  ...  ...  ...  ...   \n",
      "37232  0.0  0.0  0.0  0.0  0.0  0.0  0.0  0.0  0.0  0.0  ...  0.0  0.0  0.0   \n",
      "37233  0.0  0.0  0.0  0.0  0.0  0.0  0.0  0.0  0.0  0.0  ...  0.0  0.0  0.0   \n",
      "37234  0.0  0.0  0.0  0.0  1.0  0.0  0.0  0.0  0.0  0.0  ...  0.0  0.0  0.0   \n",
      "37235  0.0  0.0  0.0  0.0  0.0  0.0  0.0  0.0  0.0  0.0  ...  0.0  0.0  0.0   \n",
      "37236  0.0  0.0  0.0  0.0  0.0  0.0  0.0  0.0  0.0  0.0  ...  0.0  0.0  0.0   \n",
      "\n",
      "       993  994  995  996  997  998  999  \n",
      "0      0.0  0.0  0.0  0.0  0.0  0.0  0.0  \n",
      "1      0.0  0.0  0.0  0.0  0.0  0.0  0.0  \n",
      "2      0.0  0.0  0.0  0.0  0.0  0.0  0.0  \n",
      "3      0.0  0.0  0.0  0.0  0.0  0.0  0.0  \n",
      "4      0.0  0.0  0.0  0.0  0.0  0.0  0.0  \n",
      "...    ...  ...  ...  ...  ...  ...  ...  \n",
      "37232  0.0  0.0  0.0  0.0  0.0  0.0  0.0  \n",
      "37233  0.0  0.0  0.0  0.0  0.0  0.0  0.0  \n",
      "37234  0.0  0.0  0.0  0.0  0.0  0.0  0.0  \n",
      "37235  0.0  0.0  0.0  0.0  0.0  0.0  0.0  \n",
      "37236  0.0  0.0  0.0  0.0  0.0  0.0  0.0  \n",
      "\n",
      "[37237 rows x 1000 columns]\n"
     ]
    }
   ],
   "source": [
    "tfidf=TfidfVectorizer(max_df=0.90, min_df=2,max_features=1000,stop_words='english').fit(data[\"Reviews\"])\n",
    "\n",
    "tfidf_matrix=tfidf.transform(data['Reviews'])\n",
    "\n",
    "df_tfidf = pd.DataFrame(tfidf_matrix.todense())\n",
    "\n",
    "print(df_tfidf)"
   ]
  },
  {
   "cell_type": "code",
   "execution_count": 171,
   "metadata": {},
   "outputs": [],
   "source": [
    "x_train_bow, x_valid_bow, y_train_bow, y_valid_bow = train_test_split(bow,data['Sentiment'],test_size=0.3,random_state=2)\n",
    "x_train_tfidf, x_valid_tfidf, y_train_tfidf, y_valid_tfidf = train_test_split(tfidf_matrix,data['Sentiment'],test_size=0.3,random_state=17)"
   ]
  },
  {
   "cell_type": "code",
   "execution_count": 172,
   "metadata": {},
   "outputs": [
    {
     "data": {
      "text/plain": [
       "DecisionTreeClassifier(ccp_alpha=0.0, class_weight=None, criterion='entropy',\n",
       "                       max_depth=None, max_features=None, max_leaf_nodes=None,\n",
       "                       min_impurity_decrease=0.0, min_impurity_split=None,\n",
       "                       min_samples_leaf=1, min_samples_split=2,\n",
       "                       min_weight_fraction_leaf=0.0, presort='deprecated',\n",
       "                       random_state=1, splitter='best')"
      ]
     },
     "execution_count": 172,
     "metadata": {},
     "output_type": "execute_result"
    }
   ],
   "source": [
    "dtc = DecisionTreeClassifier(criterion='entropy', random_state=1)\n",
    "dtc.fit(x_train_bow,y_train_bow)"
   ]
  },
  {
   "cell_type": "markdown",
   "metadata": {
    "id": "QMOBJLDW9Ayl"
   },
   "source": [
    "# Getting input data through speech and calculating top 3 products\n"
   ]
  },
  {
   "cell_type": "code",
   "execution_count": 148,
   "metadata": {
    "colab": {
     "base_uri": "https://localhost:8080/",
     "height": 378
    },
    "id": "sj-yd82A9Itm",
    "outputId": "4211a136-807a-4cc8-b490-fa5b6764f1bf"
   },
   "outputs": [
    {
     "name": "stdout",
     "output_type": "stream",
     "text": [
      "Listening...\n",
      "Recognizing...\n",
      "You said laptop : Not found in the dataset\n",
      "Recognizing...\n",
      "You said card reader : Not found in the dataset\n",
      "Recognizing...\n",
      "Say that again please...\n",
      "Recognizing...\n",
      "Recognized: vacuum cleaner\n"
     ]
    }
   ],
   "source": [
    "engine = pyttsx3.init() \n",
    "#engine.setProperty(\"rate\", 178)\n",
    "voices = engine.getProperty('voices')\n",
    "engine.setProperty('voices ', voices[0].id)\n",
    "\n",
    "\n",
    "def speak(audio):\n",
    "    engine.say(audio)\n",
    "    engine.runAndWait()\n",
    "\n",
    "\n",
    "def wishme():\n",
    "    intro = \"!I am Bugsbunny\"#!Your Personal Assistant!Items available in our datasets are Tv, earphones, vacuum cleaner,\" \\\n",
    "            #\"Please tell me which one do you want to select?\"\n",
    "    hour = int(datetime.datetime.now().hour)\n",
    "    if (hour >= 0 and hour < 12):\n",
    "        speak(\"Good Morning Group 17!\" + intro)\n",
    "    elif (hour >= 12 and hour < 18):\n",
    "        speak(\"Good Afternoon Group 17\" + intro)\n",
    "    else:\n",
    "        speak(\"Good Evening Group 17\" + intro)\n",
    "\n",
    "flag = True\n",
    "def inputSpeech():\n",
    "\n",
    "    r = sr.Recognizer()\n",
    "    try:\n",
    "        with sr.Microphone() as source:\n",
    "            print(\"Listening...\")\n",
    "\n",
    "            r.adjust_for_ambient_noise(source)\n",
    "            r.pause_threshold = 1\n",
    "            r.energy_threshold\n",
    "        while(flag):\n",
    "            with sr.Microphone() as source:\n",
    "                audio = r.listen(source)\n",
    "                print(\"Recognizing...\")\n",
    "            try:\n",
    "                query = r.recognize_google(audio)\n",
    "                query = query.lower()\n",
    "\n",
    "                if query not in item_list:\n",
    "                    print(u\"You said {} : Not found in the dataset\".format(query))\n",
    "                else:\n",
    "                    return query\n",
    "\n",
    "                # print(\"You said: \",response)\n",
    "            except sr.UnknownValueError:\n",
    "                print(\"Say that again please...\")\n",
    "                # return \"None\"\n",
    "    except KeyboardInterrupt:\n",
    "        pass\n",
    "\n",
    "##############################\n",
    "wishme()\n",
    "input_product = inputSpeech()\n",
    "print(\"Recognized: \" + input_product)"
   ]
  },
  {
   "cell_type": "code",
   "execution_count": 159,
   "metadata": {
    "id": "mWm5ompY9trf"
   },
   "outputs": [
    {
     "name": "stdout",
     "output_type": "stream",
     "text": [
      "Top 3 vacuum cleaner products based on sentiments of it's reviews are:\n",
      "Probus W11 High Power Suction 600W Multi Use Portable Home Vacuum Cleaner with 5M Power Cord Hand-held...: 0.5473333333333333\n",
      "Easymart JK Hand-held Vacuum Cleaner: 0.533068783068783\n",
      "Kent KSL-612 Wet & Dry Vacuum Cleaner: 0.511059670781893\n",
      "\n",
      "\n",
      "1) Probus W11 High Power Suction 600W Multi Use Portable Home Vacuum Cleaner with 5M Power Cord Hand-held...\n",
      "* Entities recognized for positive sentiments: ['compact', 'powerful', 'job', 'order', 'parent', 'home', 'comfortable', 'sound', 'power', 'experience', 'nice', 'product', 'performance', 'value', 'money', 'delivery', 'doubt', 'excellent', 'awesome', 'high', 'quality', 'plastic', 'attachment', 'good', 'boy', 'useful', 'love', 'type', 'hair', 'dust']\n",
      "\n",
      "* Entities recognized for negative sentiments: []\n",
      "\n",
      "2) Easymart JK Hand-held Vacuum Cleaner\n",
      "* Entities recognized for positive sentiments: ['good', 'product', 'useful', 'low', 'price', 'nice', 'suction', 'blower', 'single', 'unit', 'powerful', 'machine', 'home', 'car', 'excellent', 'prod', 'value', 'money']\n",
      "\n",
      "* Entities recognized for negative sentiments: []\n",
      "\n",
      "3) Kent KSL-612 Wet & Dry Vacuum Cleaner\n",
      "* Entities recognized for positive sentiments: ['good', 'product', 'add', 'picture', 'much', 'flipkart', 'team', 'dry', 'use', 'average', 'sound', 'heavy', 'bearable', 'rest', 'heating', 'problem', 'mint', 'butter', 'beautiful', 'happy', 'working', 'condition', 'excellent', 'delivery', 'service', 'quality', 'suction', 'superb', 'everything', 'perfect']\n",
      "\n",
      "* Entities recognized for negative sentiments: ['bad', 'product', 'useless', 'machine', 'company', 'kent', 'care', 'customer']\n",
      "\n"
     ]
    }
   ],
   "source": [
    "df_item = df[df['Name']==input_product] #Taking dataframe of only input items\n",
    "dict_prod = {}\n",
    "item_unique = df_item[\"Products\"].unique()\n",
    "\n",
    "for i in item_unique: \n",
    "    prod = df[df[\"Products\"]==i]\n",
    "    review = list(prod[\"Reviews\"])\n",
    "    dict_prod[i] = review #Dictionary with every products as key and all reviews associated with that product as values in list\n",
    "\n",
    "dict_polar = {}\n",
    "for j in dict_prod:\n",
    "    len_item = 0\n",
    "    total_polar = 0\n",
    "    \n",
    "    for k in dict_prod[j]:\n",
    "        blob = TextBlob(k)\n",
    "        polar = blob.sentiment.polarity\n",
    "        total_polar = total_polar + polar\n",
    "        len_item = len_item + 1\n",
    "    \n",
    "    avg_polar = total_polar/len_item\n",
    "    dict_polar[avg_polar] = j #Dictionary with average polarity of all reviews of each item as keys and the item itself as value  \n",
    "\n",
    "all_keys = []\n",
    "for key in dict_polar.keys():\n",
    "    all_keys.append(key)\n",
    "    \n",
    "all_keys.sort(reverse=True) #Sorted values of average polarity of all items in decreasing order\n",
    "print(\"Top 3 \" + input_product + \" products based on sentiments of it's reviews are:\")\n",
    "\n",
    "ner_prods = []\n",
    "sentiments = df[\"Sentiments\"].unique()\n",
    "nlp = spacy.load(\"en_core_web_sm\")\n",
    "for i in range(3):\n",
    "    print(dict_polar[all_keys[i]]+ \": \"+ str(all_keys[i]))\n",
    "    ner_prods.append(dict_polar[all_keys[i]])\n",
    "print(\"\\n\")\n",
    "for i,j in enumerate(ner_prods):\n",
    "    print(str(i+1)+\") \" + j)\n",
    "    tags = [\"NN\", \"NNP\", \"JJ\"]\n",
    "    df2 = df_ner[df_ner[\"Products\"]==j]\n",
    "    for k in sentiments:\n",
    "        ners = []\n",
    "        df3 = df2[df2[\"Sentiments\"]==k]\n",
    "        ner_reviews = list(df3[\"Reviews\"])\n",
    "        rev = \" \".join([i for i in ner_reviews])\n",
    "        for token in nlp(rev):\n",
    "            if token.tag_ in tags:\n",
    "                if token.text not in ners:\n",
    "                    if(len(ners)<30):\n",
    "                        ners.append(token.text)\n",
    "        print(\"* Entities recognized for \"+k+\" sentiments: \"+ str(ners) +\"\\n\")\n",
    "\n",
    "     \n",
    "    "
   ]
  },
  {
   "cell_type": "code",
   "execution_count": 160,
   "metadata": {},
   "outputs": [
    {
     "name": "stdout",
     "output_type": "stream",
     "text": [
      "Bottom 3 vacuum cleaner products based on sentiments of it's reviews are:\n",
      "Panasonic MC-DL201B14B Hand-held Vacuum Cleaner: 0.17464642203035066\n",
      "Karcher vc4 battery (white)*KAP Cordless Vacuum Cleaner: 0.24491819291819295\n",
      "Eureka Forbes Sure Active Clean Hand-held Vacuum Cleaner: 0.26097267316017314\n",
      "\n",
      "\n",
      "1) Panasonic MC-DL201B14B Hand-held Vacuum Cleaner\n",
      "* Entities recognized for positive sentiments: ['vacuum', 'cleaner', 'bhk', 'clean', 'particular', 'model', 'capable', 'cleaning', 'spec', 'small', 'box', 'wrong', 'product', 'design', 'packaging', 'nozzles', 'extension', 'wand', 'switch', 'noise', 'bearable', 'compare', 'good', 'intend', 'prolong', 'usage', 'heat', 'hr', 'time', 'width']\n",
      "\n",
      "* Entities recognized for negative sentiments: []\n",
      "\n",
      "2) Karcher vc4 battery (white)*KAP Cordless Vacuum Cleaner\n",
      "* Entities recognized for positive sentiments: ['heavy', 'side', 'good', 'machine', 'suction', 'power', 'dosent', 'heat', 'charge', 'last', 'round', 'full', 'home', 'sweep', 'come', 'mode', 'version', 'big', 'andboth', 'detach', 'perfect', 'kid', 'son', 'spill', 'food', 'thing', 'alternative', 'broom', 'great', 'help']\n",
      "\n",
      "* Entities recognized for negative sentiments: ['suction', 'good', 'battery', 'terrible', 'min', 'clean', 'time', 'device', 'heavy', 'side', 'woman', 'difficult', 'use', 'speed', 'power', 'vacuum', 'work', 'full', 'cause', 'low', 'prolong', 'life', 'hour', 'charge', 'item', 'product']\n",
      "\n",
      "3) Eureka Forbes Sure Active Clean Hand-held Vacuum Cleaner\n",
      "* Entities recognized for positive sentiments: ['vacuum', 'cleaner', 'handy', 'giet', 'slight', 'torque', 'manageable', 'amazed', 'suction', 'capacity', 'w', 'motor', 'order', 'house', 'multi', 'floor', 'heavy', 'upstairs', 'useful', 'u', 'light', 'clean', 'trolley', 'base', 'powerful', 'lot', 'attachment', 'easy', 'click', 'button']\n",
      "\n",
      "* Entities recognized for negative sentiments: ['bad', 'product', 'vacuum', 'clean', 'minute', 'machine', 'vaiting', 'tha', 'child', 'vaccum', 'cliner', 'problem', 'purchase', 'anyone', 'use', 'nozzle', 'happy', 'dust', 'collector', 'bag', 'small', 'heat', 'continous', 'kind']\n",
      "\n"
     ]
    }
   ],
   "source": [
    "print(\"Bottom 3 \" + input_product + \" products based on sentiments of it's reviews are:\")\n",
    "\n",
    "ner_prods = []\n",
    "sentiments = df[\"Sentiments\"].unique()\n",
    "#nlp = spacy.load(\"en_core_web_sm\")\n",
    "for i in range(-1,-4,-1):\n",
    "    print(dict_polar[all_keys[i]]+ \": \"+ str(all_keys[i]))\n",
    "    ner_prods.append(dict_polar[all_keys[i]])\n",
    "print(\"\\n\")\n",
    "for i,j in enumerate(ner_prods):\n",
    "    print(str(i+1)+\") \" + j)\n",
    "    tags = [\"NN\", \"NNP\", \"JJ\"]\n",
    "    df2 = df_ner[df_ner[\"Products\"]==j]\n",
    "    for k in sentiments:\n",
    "        ners = []\n",
    "        df3 = df2[df2[\"Sentiments\"]==k]\n",
    "        ner_reviews = list(df3[\"Reviews\"])\n",
    "        rev = \" \".join([i for i in ner_reviews])\n",
    "        for token in nlp(rev):\n",
    "            if token.tag_ in tags:\n",
    "                if token.text not in ners:\n",
    "                    if(len(ners)<30):\n",
    "                        ners.append(token.text)\n",
    "        print(\"* Entities recognized for \"+k+\" sentiments: \"+ str(ners) +\"\\n\")\n"
   ]
  },
  {
   "cell_type": "code",
   "execution_count": 173,
   "metadata": {},
   "outputs": [
    {
     "name": "stdout",
     "output_type": "stream",
     "text": [
      "(11172, 2)\n",
      "Score of Decision Tree using Count Vectorizer as feature: 0.8774834437086092\n"
     ]
    }
   ],
   "source": [
    "dtc_bow = dtc.predict_proba(x_valid_bow)\n",
    "print(dtc_bow.shape)\n",
    "dtc_bow=dtc_bow[:,1]>=0.3\n",
    "dtc_int_bow=dtc_bow.astype(np.int)\n",
    "dtc_score_bow=f1_score(y_valid_bow,dtc_int_bow)\n",
    "print(\"Score of Decision Tree using Count Vectorizer as feature: \"+str(dtc_score_bow))"
   ]
  },
  {
   "cell_type": "code",
   "execution_count": 174,
   "metadata": {},
   "outputs": [
    {
     "data": {
      "text/plain": [
       "DecisionTreeClassifier(ccp_alpha=0.0, class_weight=None, criterion='entropy',\n",
       "                       max_depth=None, max_features=None, max_leaf_nodes=None,\n",
       "                       min_impurity_decrease=0.0, min_impurity_split=None,\n",
       "                       min_samples_leaf=1, min_samples_split=2,\n",
       "                       min_weight_fraction_leaf=0.0, presort='deprecated',\n",
       "                       random_state=1, splitter='best')"
      ]
     },
     "execution_count": 174,
     "metadata": {},
     "output_type": "execute_result"
    }
   ],
   "source": [
    "dtc.fit(x_train_tfidf,y_train_tfidf)"
   ]
  },
  {
   "cell_type": "code",
   "execution_count": 175,
   "metadata": {},
   "outputs": [
    {
     "name": "stdout",
     "output_type": "stream",
     "text": [
      "Score of Decision Tree using Tfidf Vectorizer as feature: 0.8823303947872747\n"
     ]
    }
   ],
   "source": [
    "dtc_tfidf = dtc.predict_proba(x_valid_tfidf)\n",
    "\n",
    "dtc_tfidf=dtc_tfidf[:,1]>=0.3\n",
    "\n",
    "dtc_int_tfidf=dtc_tfidf.astype(np.int)\n",
    "\n",
    "dtc_score_tfidf=f1_score(y_valid_tfidf,dtc_int_tfidf)\n",
    "\n",
    "print(\"Score of Decision Tree using Tfidf Vectorizer as feature: \"+str(dtc_score_tfidf))"
   ]
  },
  {
   "cell_type": "markdown",
   "metadata": {},
   "source": [
    "# Testing the model on scraped flipkart data"
   ]
  },
  {
   "cell_type": "code",
   "execution_count": 178,
   "metadata": {},
   "outputs": [
    {
     "name": "stdout",
     "output_type": "stream",
     "text": [
      "F1 Score of Decision Tree using Count Vectorizer as feature: 0.5487228003784295\n"
     ]
    }
   ],
   "source": [
    "bow_flipk = bow_vectorizer.fit_transform(df['Reviews'])\n",
    "dtc_bow = dtc.predict_proba(bow_flipk)\n",
    "dtc_bow=dtc_bow[:,1]>=0.3\n",
    "dtc_int_bow=dtc_bow.astype(np.int)\n",
    "dtc_score_flipk_bow=f1_score(df[\"labels\"],dtc_int_bow)\n",
    "print(\"F1 Score of Decision Tree using Count Vectorizer as feature: \"+str(dtc_score_flipk_bow))"
   ]
  },
  {
   "cell_type": "code",
   "execution_count": 179,
   "metadata": {},
   "outputs": [
    {
     "name": "stdout",
     "output_type": "stream",
     "text": [
      "F1 Score of Decision Tree using Tf-idf Vectorizer as feature: 0.701255230125523\n"
     ]
    }
   ],
   "source": [
    "tfidf_flipk = tfidf.fit_transform(df['Reviews'])\n",
    "dtc_tfidf = dtc.predict_proba(tfidf_flipk)\n",
    "\n",
    "dtc_tfidf=dtc_tfidf[:,1]>=0.3\n",
    "\n",
    "dtc_int_tfidf=dtc_tfidf.astype(np.int)\n",
    "\n",
    "dtc_score_flipk_tfidf=f1_score(df[\"labels\"],dtc_int_tfidf)\n",
    "\n",
    "print(\"F1 Score of Decision Tree using Tf-idf Vectorizer as feature: \"+str(dtc_score_flipk_tfidf))"
   ]
  }
 ],
 "metadata": {
  "colab": {
   "collapsed_sections": [],
   "name": "ProductReviewsSentimentAnalysis.ipynb",
   "provenance": [],
   "toc_visible": true
  },
  "kernelspec": {
   "display_name": "Python 3",
   "language": "python",
   "name": "python3"
  },
  "language_info": {
   "codemirror_mode": {
    "name": "ipython",
    "version": 3
   },
   "file_extension": ".py",
   "mimetype": "text/x-python",
   "name": "python",
   "nbconvert_exporter": "python",
   "pygments_lexer": "ipython3",
   "version": "3.9.4"
  }
 },
 "nbformat": 4,
 "nbformat_minor": 1
}
