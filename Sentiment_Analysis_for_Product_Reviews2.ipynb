{
 "cells": [
  {
   "cell_type": "markdown",
   "metadata": {
    "id": "R4kpBA_490Dy"
   },
   "source": [
    "# Part-2 Sentiment Analysis on Amazon Product Reviews"
   ]
  },
  {
   "cell_type": "code",
   "execution_count": 7,
   "metadata": {
    "id": "Xr1zYaIo90Ek"
   },
   "outputs": [],
   "source": [
    "import pandas as pd\n",
    "import numpy as np\n",
    "import matplotlib.pyplot as plt\n",
    "import seaborn as sns\n",
    "%matplotlib inline\n",
    "from wordcloud import WordCloud\n",
    "from sklearn.model_selection import train_test_split, GridSearchCV\n",
    "from sklearn.feature_extraction.text import CountVectorizer, TfidfVectorizer\n",
    "from sklearn.naive_bayes import BernoulliNB, MultinomialNB\n",
    "from sklearn.linear_model import LogisticRegression\n",
    "from sklearn.ensemble import RandomForestClassifier\n",
    "from sklearn import metrics\n",
    "from sklearn.metrics import roc_auc_score, accuracy_score\n",
    "from sklearn.pipeline import Pipeline\n",
    "from bs4 import BeautifulSoup  \n",
    "import re\n",
    "import nltk\n",
    "from nltk.corpus import stopwords \n",
    "from nltk.stem.porter import PorterStemmer\n",
    "from nltk.stem import SnowballStemmer, WordNetLemmatizer\n",
    "from nltk import sent_tokenize, word_tokenize, pos_tag\n",
    "import logging\n",
    "from gensim.models import word2vec\n",
    "from gensim.models import Word2Vec\n",
    "from gensim.models.keyedvectors import KeyedVectors\n",
    "from keras.preprocessing import sequence\n",
    "from keras.utils import np_utils\n",
    "from keras.models import Sequential\n",
    "from keras.layers.core import Dense, Dropout, Activation, Lambda\n",
    "from keras.layers.embeddings import Embedding\n",
    "from keras.layers.recurrent import LSTM, SimpleRNN, GRU\n",
    "from keras.preprocessing.text import Tokenizer\n",
    "from collections import defaultdict\n",
    "from keras.layers.convolutional import Convolution1D\n",
    "from keras import backend as K\n",
    "from keras.layers.embeddings import Embedding"
   ]
  },
  {
   "cell_type": "code",
   "execution_count": 8,
   "metadata": {
    "colab": {
     "base_uri": "https://localhost:8080/",
     "height": 306
    },
    "id": "apVQmxa990Ep",
    "outputId": "e65d573e-ee5b-4e2c-8b24-01e474bf5eb5"
   },
   "outputs": [
    {
     "data": {
      "text/html": [
       "<div>\n",
       "<style scoped>\n",
       "    .dataframe tbody tr th:only-of-type {\n",
       "        vertical-align: middle;\n",
       "    }\n",
       "\n",
       "    .dataframe tbody tr th {\n",
       "        vertical-align: top;\n",
       "    }\n",
       "\n",
       "    .dataframe thead th {\n",
       "        text-align: right;\n",
       "    }\n",
       "</style>\n",
       "<table border=\"1\" class=\"dataframe\">\n",
       "  <thead>\n",
       "    <tr style=\"text-align: right;\">\n",
       "      <th></th>\n",
       "      <th>Product Name</th>\n",
       "      <th>Brand Name</th>\n",
       "      <th>Price</th>\n",
       "      <th>Rating</th>\n",
       "      <th>Reviews</th>\n",
       "      <th>Review Votes</th>\n",
       "    </tr>\n",
       "  </thead>\n",
       "  <tbody>\n",
       "    <tr>\n",
       "      <th>0</th>\n",
       "      <td>\"CLEAR CLEAN ESN\" Sprint EPIC 4G Galaxy SPH-D7...</td>\n",
       "      <td>Samsung</td>\n",
       "      <td>199.99</td>\n",
       "      <td>5</td>\n",
       "      <td>I feel so LUCKY to have found this used (phone...</td>\n",
       "      <td>1.0</td>\n",
       "    </tr>\n",
       "    <tr>\n",
       "      <th>1</th>\n",
       "      <td>\"CLEAR CLEAN ESN\" Sprint EPIC 4G Galaxy SPH-D7...</td>\n",
       "      <td>Samsung</td>\n",
       "      <td>199.99</td>\n",
       "      <td>4</td>\n",
       "      <td>nice phone, nice up grade from my pantach revu...</td>\n",
       "      <td>0.0</td>\n",
       "    </tr>\n",
       "    <tr>\n",
       "      <th>2</th>\n",
       "      <td>\"CLEAR CLEAN ESN\" Sprint EPIC 4G Galaxy SPH-D7...</td>\n",
       "      <td>Samsung</td>\n",
       "      <td>199.99</td>\n",
       "      <td>5</td>\n",
       "      <td>Very pleased</td>\n",
       "      <td>0.0</td>\n",
       "    </tr>\n",
       "    <tr>\n",
       "      <th>3</th>\n",
       "      <td>\"CLEAR CLEAN ESN\" Sprint EPIC 4G Galaxy SPH-D7...</td>\n",
       "      <td>Samsung</td>\n",
       "      <td>199.99</td>\n",
       "      <td>4</td>\n",
       "      <td>It works good but it goes slow sometimes but i...</td>\n",
       "      <td>0.0</td>\n",
       "    </tr>\n",
       "    <tr>\n",
       "      <th>4</th>\n",
       "      <td>\"CLEAR CLEAN ESN\" Sprint EPIC 4G Galaxy SPH-D7...</td>\n",
       "      <td>Samsung</td>\n",
       "      <td>199.99</td>\n",
       "      <td>4</td>\n",
       "      <td>Great phone to replace my lost phone. The only...</td>\n",
       "      <td>0.0</td>\n",
       "    </tr>\n",
       "  </tbody>\n",
       "</table>\n",
       "</div>"
      ],
      "text/plain": [
       "                                        Product Name Brand Name   Price  \\\n",
       "0  \"CLEAR CLEAN ESN\" Sprint EPIC 4G Galaxy SPH-D7...    Samsung  199.99   \n",
       "1  \"CLEAR CLEAN ESN\" Sprint EPIC 4G Galaxy SPH-D7...    Samsung  199.99   \n",
       "2  \"CLEAR CLEAN ESN\" Sprint EPIC 4G Galaxy SPH-D7...    Samsung  199.99   \n",
       "3  \"CLEAR CLEAN ESN\" Sprint EPIC 4G Galaxy SPH-D7...    Samsung  199.99   \n",
       "4  \"CLEAR CLEAN ESN\" Sprint EPIC 4G Galaxy SPH-D7...    Samsung  199.99   \n",
       "\n",
       "   Rating                                            Reviews  Review Votes  \n",
       "0       5  I feel so LUCKY to have found this used (phone...           1.0  \n",
       "1       4  nice phone, nice up grade from my pantach revu...           0.0  \n",
       "2       5                                       Very pleased           0.0  \n",
       "3       4  It works good but it goes slow sometimes but i...           0.0  \n",
       "4       4  Great phone to replace my lost phone. The only...           0.0  "
      ]
     },
     "execution_count": 8,
     "metadata": {},
     "output_type": "execute_result"
    }
   ],
   "source": [
    "# Load csv file\n",
    "df = pd.read_csv('Amazon_Unlocked_Mobile.csv')\n",
    "df.head()"
   ]
  },
  {
   "cell_type": "code",
   "execution_count": 9,
   "metadata": {
    "colab": {
     "base_uri": "https://localhost:8080/"
    },
    "id": "fMoOHdtO90Eq",
    "outputId": "4f4d4a2b-ab37-4f5b-bb84-4a775aa7bde8"
   },
   "outputs": [
    {
     "name": "stdout",
     "output_type": "stream",
     "text": [
      "Summary statistics of numerical features : \n",
      "                Price         Rating   Review Votes\n",
      "count  201583.000000  204274.000000  198001.000000\n",
      "mean      230.414902       3.775326       1.527149\n",
      "std       317.512781       1.576468       9.358315\n",
      "min         2.290000       1.000000       0.000000\n",
      "25%        69.990000       3.000000       0.000000\n",
      "50%       125.990000       5.000000       0.000000\n",
      "75%       239.950000       5.000000       1.000000\n",
      "max      2598.000000       5.000000     487.000000\n",
      "\n",
      " Number of reviews in the dataset:  204274\n",
      "\n",
      " Number of brands in the dataset:  153\n",
      "\n",
      " Number of Unique Products:  1634\n",
      "\n",
      "Percentage of reviews with neutral sentiment : 7.57%\n",
      "\n",
      "Percentage of reviews with positive sentiment : 67.63%\n",
      "\n",
      "Percentage of reviews with negative sentiment : 24.79%\n"
     ]
    }
   ],
   "source": [
    "print(\"Summary statistics of numerical features : \\n\", df.describe())\n",
    "\n",
    "print(\"\\n Number of reviews in the dataset: \",len(df))\n",
    "print(\"\\n Number of brands in the dataset: \", len(list(set(df['Brand Name']))))\n",
    "print(\"\\n Number of Unique Products: \", len(list(set(df['Product Name']))))\n",
    "\n",
    "#Assuming rating > 3 as positive,  rating = 3 as negative, rating <3 as negative.\n",
    "print(\"\\nPercentage of reviews with neutral sentiment : {:.2f}%\"\\\n",
    "      .format(df[df['Rating']==3][\"Reviews\"].count()/len(df)*100))\n",
    "print(\"\\nPercentage of reviews with positive sentiment : {:.2f}%\"\\\n",
    "      .format(df[df['Rating']>3][\"Reviews\"].count()/len(df)*100))\n",
    "print(\"\\nPercentage of reviews with negative sentiment : {:.2f}%\"\\\n",
    "      .format(df[df['Rating']<3][\"Reviews\"].count()/len(df)*100))"
   ]
  },
  {
   "cell_type": "code",
   "execution_count": 10,
   "metadata": {
    "colab": {
     "base_uri": "https://localhost:8080/",
     "height": 513
    },
    "id": "GF6XwBZz90Et",
    "outputId": "8101714f-ec14-428d-93f4-13a0e88cc03b"
   },
   "outputs": [
    {
     "data": {
      "text/plain": [
       "Text(0, 0.5, 'Count')"
      ]
     },
     "execution_count": 10,
     "metadata": {},
     "output_type": "execute_result"
    },
    {
     "data": {
      "image/png": "[encoded data removed]",
      "text/plain": [
       "<Figure size 864x576 with 1 Axes>"
      ]
     },
     "metadata": {},
     "output_type": "display_data"
    }
   ],
   "source": [
    "# Plot distribution of rating\n",
    "plt.figure(figsize=(12,8))\n",
    "# sns.countplot(df['Rating'])\n",
    "df['Rating'].value_counts().sort_index().plot(kind='pie')\n",
    "plt.title('Rating Distribution in the dataset')\n",
    "plt.xlabel('Rating')\n",
    "plt.ylabel('Count')"
   ]
  },
  {
   "cell_type": "code",
   "execution_count": 11,
   "metadata": {
    "colab": {
     "base_uri": "https://localhost:8080/",
     "height": 669
    },
    "id": "QV0ZC-Mx90Eu",
    "outputId": "baed15d4-bce5-4b70-a180-e111e273e281"
   },
   "outputs": [
    {
     "data": {
      "text/plain": [
       "Text(0.5, 1.0, 'Number of Reviews for Top 10 Brands')"
      ]
     },
     "execution_count": 11,
     "metadata": {},
     "output_type": "execute_result"
    },
    {
     "data": {
      "image/png": "[encoded data removed]",
      "text/plain": [
       "<Figure size 720x720 with 1 Axes>"
      ]
     },
     "metadata": {
      "needs_background": "light"
     },
     "output_type": "display_data"
    }
   ],
   "source": [
    "# Plot number of reviews for top 10 brands\n",
    "\n",
    "#get all brands from the dataset with unique counts\n",
    "brands = df[\"Brand Name\"].value_counts()\n",
    "plt.figure(figsize=(10,10))\n",
    "brands[:10].plot(kind='bar')\n",
    "plt.title(\"Number of Reviews for Top 10 Brands\")"
   ]
  },
  {
   "cell_type": "code",
   "execution_count": 12,
   "metadata": {
    "colab": {
     "base_uri": "https://localhost:8080/",
     "height": 981
    },
    "id": "VmI6-PZ_90Ew",
    "outputId": "fd191c47-48ae-441e-9aeb-fc7f392e689c"
   },
   "outputs": [
    {
     "data": {
      "text/plain": [
       "Text(0.5, 1.0, 'Number of Reviews for top 20 products')"
      ]
     },
     "execution_count": 12,
     "metadata": {},
     "output_type": "execute_result"
    },
    {
     "data": {
      "image/png": "[encoded data removed]",
      "text/plain": [
       "<Figure size 864x576 with 1 Axes>"
      ]
     },
     "metadata": {
      "needs_background": "light"
     },
     "output_type": "display_data"
    }
   ],
   "source": [
    "# Plot number of reviews for top 20 products\n",
    "\n",
    "products = df[\"Product Name\"].value_counts()\n",
    "plt.figure(figsize=(12,8))\n",
    "products[:20].plot(kind='bar')\n",
    "plt.title(\"Number of Reviews for top 20 products\")"
   ]
  },
  {
   "cell_type": "code",
   "execution_count": 13,
   "metadata": {
    "colab": {
     "base_uri": "https://localhost:8080/",
     "height": 638
    },
    "id": "oJ4IwIu090Ex",
    "outputId": "7742570b-3b57-4d80-c4b6-f852513445c9"
   },
   "outputs": [
    {
     "data": {
      "text/plain": [
       "Text(0, 0.5, 'Count')"
      ]
     },
     "execution_count": 13,
     "metadata": {},
     "output_type": "execute_result"
    },
    {
     "data": {
      "image/png": "[encoded data removed]",
      "text/plain": [
       "<Figure size 720x720 with 1 Axes>"
      ]
     },
     "metadata": {
      "needs_background": "light"
     },
     "output_type": "display_data"
    }
   ],
   "source": [
    "# Plot distribution of review length\n",
    "\n",
    "#drop nulls from reviews to find out total reviews\n",
    "review_length = df[\"Reviews\"].dropna().map(lambda x: len(x))\n",
    "plt.figure(figsize=(10,10))\n",
    "review_length.loc[review_length < 1500].hist()\n",
    "plt.title(\"Distribution of Review Length\")\n",
    "plt.xlabel('Review length (Number of character)')\n",
    "plt.ylabel('Count')"
   ]
  },
  {
   "cell_type": "code",
   "execution_count": 14,
   "metadata": {
    "colab": {
     "base_uri": "https://localhost:8080/",
     "height": 546
    },
    "id": "jMIKUOtF90E0",
    "outputId": "c4b9c247-97bc-410d-b18a-2176055a4333"
   },
   "outputs": [
    {
     "data": {
      "text/html": [
       "<div>\n",
       "<style scoped>\n",
       "    .dataframe tbody tr th:only-of-type {\n",
       "        vertical-align: middle;\n",
       "    }\n",
       "\n",
       "    .dataframe tbody tr th {\n",
       "        vertical-align: top;\n",
       "    }\n",
       "\n",
       "    .dataframe thead th {\n",
       "        text-align: right;\n",
       "    }\n",
       "</style>\n",
       "<table border=\"1\" class=\"dataframe\">\n",
       "  <thead>\n",
       "    <tr style=\"text-align: right;\">\n",
       "      <th></th>\n",
       "      <th>Product Name</th>\n",
       "      <th>Brand Name</th>\n",
       "      <th>Price</th>\n",
       "      <th>Rating</th>\n",
       "      <th>Reviews</th>\n",
       "      <th>Review Votes</th>\n",
       "      <th>Sentiment</th>\n",
       "    </tr>\n",
       "  </thead>\n",
       "  <tbody>\n",
       "    <tr>\n",
       "      <th>50233</th>\n",
       "      <td>Apple iPhone 5s Unlocked Cellphone, 64 GB, Silver</td>\n",
       "      <td>Apple</td>\n",
       "      <td>399.95</td>\n",
       "      <td>5</td>\n",
       "      <td>Good phone!</td>\n",
       "      <td>0.0</td>\n",
       "      <td>1</td>\n",
       "    </tr>\n",
       "    <tr>\n",
       "      <th>91271</th>\n",
       "      <td>Blackberry Curve 8310 Unlocked Phone with GPS,...</td>\n",
       "      <td>BlackBerry</td>\n",
       "      <td>14.87</td>\n",
       "      <td>5</td>\n",
       "      <td>Excellent Product!!! Recommended 100%!!!</td>\n",
       "      <td>0.0</td>\n",
       "      <td>1</td>\n",
       "    </tr>\n",
       "    <tr>\n",
       "      <th>203453</th>\n",
       "      <td>Huawei Tap U7519 Unlocked Phone with Touchscre...</td>\n",
       "      <td>Huawei</td>\n",
       "      <td>29.50</td>\n",
       "      <td>4</td>\n",
       "      <td>I ended buying two, for its great price, thoug...</td>\n",
       "      <td>3.0</td>\n",
       "      <td>1</td>\n",
       "    </tr>\n",
       "    <tr>\n",
       "      <th>111854</th>\n",
       "      <td>BLU Dash JR 4.0 K Smartphone - Unlocked - White</td>\n",
       "      <td>BLU</td>\n",
       "      <td>43.95</td>\n",
       "      <td>5</td>\n",
       "      <td>perfect</td>\n",
       "      <td>0.0</td>\n",
       "      <td>1</td>\n",
       "    </tr>\n",
       "    <tr>\n",
       "      <th>100544</th>\n",
       "      <td>Blackberry Torch 9800 Unlocked Phone with 5 MP...</td>\n",
       "      <td>BlackBerry</td>\n",
       "      <td>82.62</td>\n",
       "      <td>5</td>\n",
       "      <td>ok thanks all excellent purchase. It is a good...</td>\n",
       "      <td>0.0</td>\n",
       "      <td>1</td>\n",
       "    </tr>\n",
       "    <tr>\n",
       "      <th>153458</th>\n",
       "      <td>BLU Studio Selfie - Smartphone - GSM Unlocked ...</td>\n",
       "      <td>BLU</td>\n",
       "      <td>94.99</td>\n",
       "      <td>4</td>\n",
       "      <td>Good</td>\n",
       "      <td>0.0</td>\n",
       "      <td>1</td>\n",
       "    </tr>\n",
       "    <tr>\n",
       "      <th>11955</th>\n",
       "      <td>Apple iPhone 4S 16GB (Black) - Verizon</td>\n",
       "      <td>Apple</td>\n",
       "      <td>224.77</td>\n",
       "      <td>5</td>\n",
       "      <td>Does exactly what I want and works with TracFone.</td>\n",
       "      <td>0.0</td>\n",
       "      <td>1</td>\n",
       "    </tr>\n",
       "    <tr>\n",
       "      <th>119193</th>\n",
       "      <td>BLU Energy X Plus Smartphone - With 4000 mAh S...</td>\n",
       "      <td>BLU</td>\n",
       "      <td>139.00</td>\n",
       "      <td>4</td>\n",
       "      <td>I really like this phone. It's not heavy in ha...</td>\n",
       "      <td>0.0</td>\n",
       "      <td>1</td>\n",
       "    </tr>\n",
       "    <tr>\n",
       "      <th>155342</th>\n",
       "      <td>BLU Studio Selfie 2 - GSM Unlocked Smartphone ...</td>\n",
       "      <td>BLU</td>\n",
       "      <td>69.99</td>\n",
       "      <td>5</td>\n",
       "      <td>Excelente</td>\n",
       "      <td>0.0</td>\n",
       "      <td>1</td>\n",
       "    </tr>\n",
       "    <tr>\n",
       "      <th>80657</th>\n",
       "      <td>ASUS ZenFone 2 Laser Unlocked Smartphone, 3GB ...</td>\n",
       "      <td>ASUS Computers</td>\n",
       "      <td>229.00</td>\n",
       "      <td>3</td>\n",
       "      <td>Loved the device but was disappointed that it ...</td>\n",
       "      <td>0.0</td>\n",
       "      <td>0</td>\n",
       "    </tr>\n",
       "  </tbody>\n",
       "</table>\n",
       "</div>"
      ],
      "text/plain": [
       "                                             Product Name      Brand Name  \\\n",
       "50233   Apple iPhone 5s Unlocked Cellphone, 64 GB, Silver           Apple   \n",
       "91271   Blackberry Curve 8310 Unlocked Phone with GPS,...      BlackBerry   \n",
       "203453  Huawei Tap U7519 Unlocked Phone with Touchscre...          Huawei   \n",
       "111854    BLU Dash JR 4.0 K Smartphone - Unlocked - White             BLU   \n",
       "100544  Blackberry Torch 9800 Unlocked Phone with 5 MP...      BlackBerry   \n",
       "153458  BLU Studio Selfie - Smartphone - GSM Unlocked ...             BLU   \n",
       "11955              Apple iPhone 4S 16GB (Black) - Verizon           Apple   \n",
       "119193  BLU Energy X Plus Smartphone - With 4000 mAh S...             BLU   \n",
       "155342  BLU Studio Selfie 2 - GSM Unlocked Smartphone ...             BLU   \n",
       "80657   ASUS ZenFone 2 Laser Unlocked Smartphone, 3GB ...  ASUS Computers   \n",
       "\n",
       "         Price  Rating                                            Reviews  \\\n",
       "50233   399.95       5                                        Good phone!   \n",
       "91271    14.87       5           Excellent Product!!! Recommended 100%!!!   \n",
       "203453   29.50       4  I ended buying two, for its great price, thoug...   \n",
       "111854   43.95       5                                            perfect   \n",
       "100544   82.62       5  ok thanks all excellent purchase. It is a good...   \n",
       "153458   94.99       4                                               Good   \n",
       "11955   224.77       5  Does exactly what I want and works with TracFone.   \n",
       "119193  139.00       4  I really like this phone. It's not heavy in ha...   \n",
       "155342   69.99       5                                          Excelente   \n",
       "80657   229.00       3  Loved the device but was disappointed that it ...   \n",
       "\n",
       "        Review Votes  Sentiment  \n",
       "50233            0.0          1  \n",
       "91271            0.0          1  \n",
       "203453           3.0          1  \n",
       "111854           0.0          1  \n",
       "100544           0.0          1  \n",
       "153458           0.0          1  \n",
       "11955            0.0          1  \n",
       "119193           0.0          1  \n",
       "155342           0.0          1  \n",
       "80657            0.0          0  "
      ]
     },
     "execution_count": 14,
     "metadata": {},
     "output_type": "execute_result"
    }
   ],
   "source": [
    "df = df.sample(frac=0.2, random_state=12) \n",
    "# Drop missing values\n",
    "df = df.dropna()\n",
    "\n",
    "# Encode 4s and 5s as 1 (positive sentiment) and 1s and 2s as 0 (negative sentiment)\n",
    "df['Sentiment'] = np.where(df['Rating'] > 3, 1, 0)\n",
    "df.head(10)"
   ]
  },
  {
   "cell_type": "code",
   "execution_count": 15,
   "metadata": {
    "colab": {
     "base_uri": "https://localhost:8080/"
    },
    "id": "-j4Oy1M290E1",
    "outputId": "752339f7-79a6-4d78-d3ff-b301727fdf77"
   },
   "outputs": [
    {
     "name": "stdout",
     "output_type": "stream",
     "text": [
      "There are 27336 training examples and 6835 validation examples. \n",
      "\n"
     ]
    }
   ],
   "source": [
    "# Split data into training set and validation\n",
    "X_train, X_test, y_train, y_test = train_test_split(df['Reviews'], df['Sentiment'], test_size=0.2, random_state=12)\n",
    "\n",
    "print(\"There are %d training examples and %d validation examples. \\n\" %(X_train.shape[0],X_test.shape[0]))"
   ]
  },
  {
   "cell_type": "code",
   "execution_count": 16,
   "metadata": {
    "id": "6sT31iUQ90E6"
   },
   "outputs": [],
   "source": [
    "#clean reviews\n",
    "def cleanText(raw_text, remove_stopwords=False, stemming=False, split_text=False ):\n",
    "    removed_html = BeautifulSoup(raw_text, 'lxml').get_text()  #remove html\n",
    "    removed_non_character = re.sub(\"[^a-zA-Z]\", \" \", removed_html)  # remove non-character\n",
    "    words = removed_non_character.lower().split() # convert to lower case \n",
    "    \n",
    "    if remove_stopwords: # remove stopword\n",
    "        stops = set(stopwords.words(\"english\"))\n",
    "        words = [word for word in words if not word in stops]\n",
    "        \n",
    "    if stemming==True: # stemming\n",
    "#         stemmer = PorterStemmer()\n",
    "        stemmer = SnowballStemmer('english') \n",
    "        words = [stemmer.stem(word) for word in words]\n",
    "        \n",
    "    if split_text==True:  # split text\n",
    "        return (words)\n",
    "    \n",
    "    return( \" \".join(words)) "
   ]
  },
  {
   "cell_type": "code",
   "execution_count": 17,
   "metadata": {
    "colab": {
     "base_uri": "https://localhost:8080/"
    },
    "id": "ziALssO_90E7",
    "outputId": "8f657a39-dfd1-4f2a-a563-b4a927879e08"
   },
   "outputs": [
    {
     "name": "stderr",
     "output_type": "stream",
     "text": [
      "C:\\ProgramData\\Anaconda3\\lib\\site-packages\\bs4\\__init__.py:414: MarkupResemblesLocatorWarning: \"http://www.amazon.com/gp/product/B0193D539M?redirect=true&ref_=cm_cr_ryp_prd_ttl_sol_0\" looks like a URL. Beautiful Soup is not an HTTP client. You should probably use an HTTP client like requests to get the document behind the URL, and feed that document to Beautiful Soup.\n",
      "  warnings.warn(\n",
      "C:\\ProgramData\\Anaconda3\\lib\\site-packages\\bs4\\__init__.py:414: MarkupResemblesLocatorWarning: \"http://www.amazon.com/gp/product/B013YDFH3Y?redirect=true&ref_=cm_cr_ryp_prd_ttl_sol_0\" looks like a URL. Beautiful Soup is not an HTTP client. You should probably use an HTTP client like requests to get the document behind the URL, and feed that document to Beautiful Soup.\n",
      "  warnings.warn(\n",
      "C:\\ProgramData\\Anaconda3\\lib\\site-packages\\bs4\\__init__.py:414: MarkupResemblesLocatorWarning: \"https://www.amazon.com/dp/B00K15KRV6/ref=cm_cr_ryp_prd_ttl_sol_22\" looks like a URL. Beautiful Soup is not an HTTP client. You should probably use an HTTP client like requests to get the document behind the URL, and feed that document to Beautiful Soup.\n",
      "  warnings.warn(\n"
     ]
    }
   ],
   "source": [
    "# Cleaning train data and test data\n",
    "X_train_cleaned = []\n",
    "X_test_cleaned = []\n",
    "\n",
    "for review in X_train:\n",
    "    X_train_cleaned.append(cleanText(review))\n",
    "    \n",
    "for review in X_test:\n",
    "    X_test_cleaned.append(cleanText(review))"
   ]
  },
  {
   "cell_type": "code",
   "execution_count": 18,
   "metadata": {
    "id": "d5AkE0eO90E_"
   },
   "outputs": [],
   "source": [
    "#metrics to evaluate different classification models\n",
    "\n",
    "accuracies = []\n",
    "auc_scores = []\n",
    "def modelEvaluation(predictions):\n",
    "    accuracy  = round(accuracy_score(y_test, predictions), 3)\n",
    "    auc_score = round(roc_auc_score(y_test, predictions),3)\n",
    "    accuracies.append(accuracy);auc_scores.append(auc_score)\n",
    "    print(\"\\nAccuracy on validation set: {:.4f}\".format(accuracy))\n",
    "    print(\"\\nAUC score : {:.4f}\".format(auc_score))\n",
    "    print(\"\\nClassification report : \\n\", metrics.classification_report(y_test, predictions))\n",
    "    print(\"\\nConfusion Matrix : \\n\", metrics.confusion_matrix(y_test, predictions))"
   ]
  },
  {
   "cell_type": "code",
   "execution_count": 19,
   "metadata": {
    "colab": {
     "base_uri": "https://localhost:8080/"
    },
    "id": "wbpUwpvG90E9",
    "outputId": "50c9ba36-971f-4411-f53d-6d88e6ab8f22"
   },
   "outputs": [
    {
     "name": "stdout",
     "output_type": "stream",
     "text": [
      "Number of features : 17662 \n",
      "\n",
      "Show some feature names : \n",
      " ['aa', 'assistance', 'bubble', 'compatable', 'defintely', 'ejector', 'finder', 'guts', 'installation', 'llamen', 'mps', 'part', 'promisedall', 'rescued', 'shorcircuited', 'subsequent', 'trajeta', 'walled']\n"
     ]
    }
   ],
   "source": [
    "# Convert words to document term matrix. Fit and transform to the dataset\n",
    "vect = CountVectorizer() \n",
    "X_train_vect = vect.fit_transform(X_train_cleaned)\n",
    "print(\"Number of features : %d \\n\" %len(vect.get_feature_names()))\n",
    "print(\"Show some feature names : \\n\", vect.get_feature_names()[::1000])"
   ]
  },
  {
   "cell_type": "code",
   "execution_count": 20,
   "metadata": {
    "colab": {
     "base_uri": "https://localhost:8080/"
    },
    "id": "lRq9JTxZwHfd",
    "outputId": "0b2fddee-05b0-4324-aa18-f553f02d77ea"
   },
   "outputs": [
    {
     "data": {
      "text/plain": [
       "MultinomialNB()"
      ]
     },
     "execution_count": 20,
     "metadata": {},
     "output_type": "execute_result"
    }
   ],
   "source": [
    "# Train MultinomialNaiveBayes classifier\n",
    "multinomialNB = MultinomialNB()\n",
    "multinomialNB.fit(X_train_vect, y_train)"
   ]
  },
  {
   "cell_type": "code",
   "execution_count": 21,
   "metadata": {
    "colab": {
     "base_uri": "https://localhost:8080/"
    },
    "id": "XJyYaXw990FA",
    "outputId": "c18574c5-08dd-4b39-d45c-6c3128950a92"
   },
   "outputs": [
    {
     "name": "stdout",
     "output_type": "stream",
     "text": [
      "\n",
      "Accuracy on validation set: 0.8950\n",
      "\n",
      "AUC score : 0.8640\n",
      "\n",
      "Classification report : \n",
      "               precision    recall  f1-score   support\n",
      "\n",
      "           0       0.88      0.78      0.83      2202\n",
      "           1       0.90      0.95      0.92      4633\n",
      "\n",
      "    accuracy                           0.89      6835\n",
      "   macro avg       0.89      0.86      0.88      6835\n",
      "weighted avg       0.89      0.89      0.89      6835\n",
      "\n",
      "\n",
      "Confusion Matrix : \n",
      " [[1711  491]\n",
      " [ 230 4403]]\n"
     ]
    }
   ],
   "source": [
    "# Evaluate Binomial model on Test Set\n",
    "predictions = multinomialNB.predict(vect.transform(X_test_cleaned))\n",
    "modelEvaluation(predictions)"
   ]
  },
  {
   "cell_type": "code",
   "execution_count": 22,
   "metadata": {
    "colab": {
     "base_uri": "https://localhost:8080/"
    },
    "id": "PXzOKxfbxxxG",
    "outputId": "ac09881f-1b56-40e5-da38-7033ebe13d56"
   },
   "outputs": [
    {
     "name": "stdout",
     "output_type": "stream",
     "text": [
      "Number of features : 19046 \n",
      "\n"
     ]
    },
    {
     "name": "stderr",
     "output_type": "stream",
     "text": [
      "C:\\ProgramData\\Anaconda3\\lib\\site-packages\\sklearn\\linear_model\\_logistic.py:762: ConvergenceWarning: lbfgs failed to converge (status=1):\n",
      "STOP: TOTAL NO. of ITERATIONS REACHED LIMIT.\n",
      "\n",
      "Increase the number of iterations (max_iter) or scale the data as shown in:\n",
      "    https://scikit-learn.org/stable/modules/preprocessing.html\n",
      "Please also refer to the documentation for alternative solver options:\n",
      "    https://scikit-learn.org/stable/modules/linear_model.html#logistic-regression\n",
      "  n_iter_i = _check_optimize_result(\n"
     ]
    },
    {
     "data": {
      "text/plain": [
       "LogisticRegression()"
      ]
     },
     "execution_count": 22,
     "metadata": {},
     "output_type": "execute_result"
    }
   ],
   "source": [
    "# Fit and transform the training data to a document-term matrix using TfidfVectorizer \n",
    "vect = CountVectorizer() #minimum document frequency of 5\n",
    "X_train_vect = vect.fit_transform(X_train)\n",
    "print(\"Number of features : %d \\n\" %len(vect.get_feature_names())) \n",
    "\n",
    "# Logistic Regression\n",
    "lr = LogisticRegression()\n",
    "lr.fit(X_train_vect, y_train)"
   ]
  },
  {
   "cell_type": "code",
   "execution_count": 23,
   "metadata": {
    "colab": {
     "base_uri": "https://localhost:8080/"
    },
    "id": "tBWPP-U4xxxl",
    "outputId": "05896e63-7929-4bb1-f621-d8280bab728c"
   },
   "outputs": [
    {
     "name": "stdout",
     "output_type": "stream",
     "text": [
      "\n",
      "Top 10 features with smallest coefficients :\n",
      "['poor' 'worst' 'junk' 'freezes' 'slow' 'stopped' 'returning' 'horrible'\n",
      " 'broke' 'letter' 'waste' 'broken' 'worthless' 'unusable' 'hate'\n",
      " 'disappointed' 'empty' 'crashing' 'upset' 'defective']\n",
      "\n",
      "Top 10 features with largest coefficients : \n",
      "['excelente' 'excellent' 'awesome' 'excelent' 'perfect' 'love' 'exelente'\n",
      " 'wonderful' 'amazing' 'bien' 'pleased' 'perfecto' 'great' 'best' 'loves'\n",
      " 'exactly' 'accidentally' 'remote' 'affordable' 'happier']\n"
     ]
    }
   ],
   "source": [
    "# Look at the top 10 features with smallest and the largest coefficients\n",
    "feature_names = np.array(vect.get_feature_names())\n",
    "sorted_coef_index = lr.coef_[0].argsort()\n",
    "print('\\nTop 10 features with smallest coefficients :\\n{}\\n'.format(feature_names[sorted_coef_index[:20]]))\n",
    "print('Top 10 features with largest coefficients : \\n{}'.format(feature_names[sorted_coef_index[:-21:-1]]))"
   ]
  },
  {
   "cell_type": "code",
   "execution_count": 24,
   "metadata": {
    "colab": {
     "base_uri": "https://localhost:8080/"
    },
    "id": "920DZPT1xxxn",
    "outputId": "95b31338-249e-4b33-ddfe-4a2121eacdab"
   },
   "outputs": [
    {
     "name": "stdout",
     "output_type": "stream",
     "text": [
      "\n",
      "Accuracy on validation set: 0.9130\n",
      "\n",
      "AUC score : 0.8890\n",
      "\n",
      "Classification report : \n",
      "               precision    recall  f1-score   support\n",
      "\n",
      "           0       0.90      0.82      0.86      2202\n",
      "           1       0.92      0.96      0.94      4633\n",
      "\n",
      "    accuracy                           0.91      6835\n",
      "   macro avg       0.91      0.89      0.90      6835\n",
      "weighted avg       0.91      0.91      0.91      6835\n",
      "\n",
      "\n",
      "Confusion Matrix : \n",
      " [[1804  398]\n",
      " [ 194 4439]]\n"
     ]
    }
   ],
   "source": [
    "# Evaluate on the validaton set\n",
    "predictions = lr.predict(vect.transform(X_test_cleaned))\n",
    "modelEvaluation(predictions)"
   ]
  },
  {
   "cell_type": "code",
   "execution_count": 25,
   "metadata": {
    "colab": {
     "base_uri": "https://localhost:8080/"
    },
    "id": "j4sMiCyo90FC",
    "outputId": "4ed9780b-aa3d-42d6-899f-6b9e43bc349f"
   },
   "outputs": [
    {
     "name": "stdout",
     "output_type": "stream",
     "text": [
      "Number of features : 5706 \n",
      "\n",
      "Show some feature names : \n",
      " ['00', 'claiming', 'fixed', 'mailed', 'reasonable', 'telefono']\n"
     ]
    },
    {
     "data": {
      "text/plain": [
       "LogisticRegression()"
      ]
     },
     "execution_count": 25,
     "metadata": {},
     "output_type": "execute_result"
    }
   ],
   "source": [
    "# Fit and transform the training data to a document-term matrix using TfidfVectorizer \n",
    "tfidf = TfidfVectorizer(min_df=5) #minimum document frequency of 5\n",
    "X_train_tfidf = tfidf.fit_transform(X_train)\n",
    "print(\"Number of features : %d \\n\" %len(tfidf.get_feature_names())) \n",
    "print(\"Show some feature names : \\n\", tfidf.get_feature_names()[::1000])\n",
    "\n",
    "# Logistic Regression\n",
    "lr = LogisticRegression()\n",
    "lr.fit(X_train_tfidf, y_train)"
   ]
  },
  {
   "cell_type": "code",
   "execution_count": 26,
   "metadata": {
    "colab": {
     "base_uri": "https://localhost:8080/"
    },
    "id": "563McPE290FD",
    "outputId": "e8630d74-0e11-41f5-f3cd-3d0c37e7f2ff"
   },
   "outputs": [
    {
     "name": "stdout",
     "output_type": "stream",
     "text": [
      "\n",
      "Top 10 features with smallest coefficients :\n",
      "['not' 'doesn' 'return' 'slow' 'poor' 'disappointed' 'stopped' 'waste'\n",
      " 'worst' 'returning' 'refund' 'horrible' 'broken' 'wasn' 'broke' 'tried'\n",
      " 'wouldn' 'freezes' 'junk' 'terrible']\n",
      "\n",
      "Top 10 features with largest coefficients : \n",
      "['love' 'great' 'excellent' 'perfect' 'awesome' 'amazing' 'best'\n",
      " 'excelente' 'easy' 'excelent' 'perfectly' 'loves' 'nice' 'everything'\n",
      " 'happy' 'pleased' 'exactly' 'good' 'fast' 'wonderful']\n"
     ]
    }
   ],
   "source": [
    "# Look at the top 10 features with smallest and the largest coefficients\n",
    "feature_names = np.array(tfidf.get_feature_names())\n",
    "sorted_coef_index = lr.coef_[0].argsort()\n",
    "print('\\nTop 10 features with smallest coefficients :\\n{}\\n'.format(feature_names[sorted_coef_index[:20]]))\n",
    "print('Top 10 features with largest coefficients : \\n{}'.format(feature_names[sorted_coef_index[:-21:-1]]))"
   ]
  },
  {
   "cell_type": "code",
   "execution_count": 27,
   "metadata": {
    "colab": {
     "base_uri": "https://localhost:8080/"
    },
    "id": "d3Rb2jUO90FD",
    "outputId": "af9bab0c-fc0c-4f3f-c593-7e42d8d91499"
   },
   "outputs": [
    {
     "name": "stdout",
     "output_type": "stream",
     "text": [
      "\n",
      "Accuracy on validation set: 0.9100\n",
      "\n",
      "AUC score : 0.8870\n",
      "\n",
      "Classification report : \n",
      "               precision    recall  f1-score   support\n",
      "\n",
      "           0       0.89      0.82      0.86      2202\n",
      "           1       0.92      0.95      0.94      4633\n",
      "\n",
      "    accuracy                           0.91      6835\n",
      "   macro avg       0.91      0.89      0.90      6835\n",
      "weighted avg       0.91      0.91      0.91      6835\n",
      "\n",
      "\n",
      "Confusion Matrix : \n",
      " [[1808  394]\n",
      " [ 219 4414]]\n"
     ]
    }
   ],
   "source": [
    "# Evaluate on the validaton set\n",
    "predictions = lr.predict(tfidf.transform(X_test_cleaned))\n",
    "modelEvaluation(predictions)"
   ]
  },
  {
   "cell_type": "code",
   "execution_count": 28,
   "metadata": {
    "colab": {
     "base_uri": "https://localhost:8080/"
    },
    "id": "biAPTJ0s3mMR",
    "outputId": "5914dfe1-21a7-412b-e482-f4889983ef3c"
   },
   "outputs": [
    {
     "name": "stdout",
     "output_type": "stream",
     "text": [
      "\n",
      "Accuracy on validation set: 0.9300\n",
      "\n",
      "AUC score : 0.9070\n",
      "\n",
      "Classification report : \n",
      "               precision    recall  f1-score   support\n",
      "\n",
      "           0       0.94      0.84      0.89      2202\n",
      "           1       0.93      0.97      0.95      4633\n",
      "\n",
      "    accuracy                           0.93      6835\n",
      "   macro avg       0.93      0.91      0.92      6835\n",
      "weighted avg       0.93      0.93      0.93      6835\n",
      "\n",
      "\n",
      "Confusion Matrix : \n",
      " [[1850  352]\n",
      " [ 124 4509]]\n"
     ]
    }
   ],
   "source": [
    "from sklearn import ensemble \n",
    "\n",
    "\n",
    "#random forest with CountVectorizer\n",
    "rfc = ensemble.RandomForestClassifier()\n",
    "rfc.fit(X_train_vect, y_train) #X_train_vect = document term matrix\n",
    "\n",
    "feature_names = np.array(vect.get_feature_names())\n",
    "\n",
    "# Evaluate on the validaton set\n",
    "predictions = rfc.predict(vect.transform(X_test_cleaned))\n",
    "modelEvaluation(predictions)\n",
    "\n",
    "\n",
    "#Longer time to train"
   ]
  },
  {
   "cell_type": "code",
   "execution_count": 29,
   "metadata": {
    "colab": {
     "base_uri": "https://localhost:8080/",
     "height": 297
    },
    "id": "IVNxmuD7X5-m",
    "outputId": "a66a1520-3f60-4712-9786-486037acc22a",
    "scrolled": false
   },
   "outputs": [
    {
     "data": {
      "image/png": "[encoded data removed]",
      "text/plain": [
       "<Figure size 432x288 with 1 Axes>"
      ]
     },
     "metadata": {
      "needs_background": "light"
     },
     "output_type": "display_data"
    }
   ],
   "source": [
    "#borrowed form https://matplotlib.org/3.1.1/gallery/lines_bars_and_markers/barchart.html\n",
    "labels = [\"multinomailNB\",\"LRCountVec\",\"LRTfdifVec\",\"RandomForestCountVec\"]\n",
    "\n",
    "x = np.arange(len(labels))  # the label locations\n",
    "width = 0.35  # the width of the bars\n",
    "\n",
    "fig, ax = plt.subplots()\n",
    "rects1 = ax.bar(x - width/2, accuracies, width, label='Accuracy')\n",
    "rects2 = ax.bar(x + width/2, auc_scores, width, label='AUC')\n",
    "\n",
    "# Add some text for labels, title and custom x-axis tick labels, etc.\n",
    "ax.set_ylabel('Scores')\n",
    "ax.set_title('Scores by model')\n",
    "ax.set_ylim(0.7,1.0)\n",
    "ax.set_xticks(x)\n",
    "ax.set_xticklabels(labels)\n",
    "ax.legend()\n",
    "\n",
    "def autolabel(rects):\n",
    "    \"\"\"Attach a text label above each bar in *rects*, displaying its height.\"\"\"\n",
    "    for rect in rects:\n",
    "        height = rect.get_height()\n",
    "        ax.annotate('{}'.format(height),\n",
    "                    xy=(rect.get_x() + rect.get_width() / 2, height),\n",
    "                    xytext=(0, 3),  # 3 points vertical offset\n",
    "                    textcoords=\"offset points\",\n",
    "                    ha='center', va='bottom')\n",
    "\n",
    "\n",
    "autolabel(rects1)\n",
    "autolabel(rects2)\n",
    "\n",
    "fig.tight_layout()\n",
    "\n",
    "plt.show()"
   ]
  },
  {
   "cell_type": "markdown",
   "metadata": {},
   "source": [
    "# Part-3 Experiments -1\n",
    "\n",
    "### Word2Vec Model, Feature Vectors, Random Forest Classifier, Simple LSTM and LSTM with Word2Vec"
   ]
  },
  {
   "cell_type": "code",
   "execution_count": 30,
   "metadata": {
    "colab": {
     "base_uri": "https://localhost:8080/"
    },
    "id": "bYbSnxAb90FG",
    "outputId": "33027dfd-aaa6-4305-ffe1-fd143601e2e3"
   },
   "outputs": [
    {
     "name": "stderr",
     "output_type": "stream",
     "text": [
      "[nltk_data] Downloading package punkt to\n",
      "[nltk_data]     C:\\Users\\Acer\\AppData\\Roaming\\nltk_data...\n",
      "[nltk_data]   Package punkt is already up-to-date!\n"
     ]
    },
    {
     "name": "stdout",
     "output_type": "stream",
     "text": [
      "27301 parsed sentence in the training set\n",
      "\n",
      "Show a parsed sentence in the training set : \n",
      " ['do', 'not', 'waste', 'your', 'money', 'buying', 'this', 'phone', 'is', 'really', 'rubbish', 'the', 'phone', 'gets', 'very', 'hot', 'and', 'off', 'every', 'minutes', 'the', 'phone', 'has', 'only', 'months', 'of', 'use', 'and', 'not', 'used', 'is', 'a', 'waste', 'of', 'money', 'i', 'regret', 'not', 'buying', 'a', 'phone', 'from', 'real', 'manufacturers', 'motorola', 'samsung', 'sony', 'huawei', 'lg', 'blu', 'is', 'not', 'only', 'sells', 'generic', 'phone', 'manufacturer', 'shoddy', 'pure', 'blu', 'xl', 'is', 'equal', 'gionne', 'e', 'and', 'allview', 'soul', 'extreme', 'x', 'are', 'generic', 'phones', 'do', 'not', 'buy', 'do', 'not', 'buy', 'blu', 'blu', 'not', 'buy', 'blu', 'blu', 'not', 'buy', 'do', 'not', 'buy', 'blu']\n"
     ]
    }
   ],
   "source": [
    "# Split review text into parsed sentences uisng NLTK's punkt tokenizer\n",
    "# nltk.download()\n",
    "import nltk\n",
    "nltk.download('punkt')\n",
    "tokenizer = nltk.data.load('tokenizers/punkt/english.pickle')\n",
    "\n",
    "def parseSent(review, tokenizer, remove_stopwords=False):\n",
    "    '''\n",
    "    Parse text into sentences\n",
    "    '''\n",
    "    raw_sentences = tokenizer.tokenize(review.strip())\n",
    "    sentences = []\n",
    "    for raw_sentence in raw_sentences:\n",
    "        if len(raw_sentence) > 0:\n",
    "            sentences.append(cleanText(raw_sentence, remove_stopwords, split_text=True))\n",
    "    return sentences\n",
    "\n",
    "\n",
    "# Parse each review in the training set into sentences\n",
    "sentences = []\n",
    "for review in X_train_cleaned:\n",
    "    sentences += parseSent(review, tokenizer)\n",
    "    \n",
    "print('%d parsed sentence in the training set\\n'  %len(sentences))\n",
    "print('Show a parsed sentence in the training set : \\n',  sentences[10])"
   ]
  },
  {
   "cell_type": "code",
   "execution_count": 33,
   "metadata": {
    "colab": {
     "base_uri": "https://localhost:8080/",
     "height": 248
    },
    "id": "mI1AqZXp90FI",
    "outputId": "7744aba1-ead5-4067-eeaa-4591f765a2eb",
    "scrolled": true
   },
   "outputs": [
    {
     "name": "stdout",
     "output_type": "stream",
     "text": [
      "Training Word2Vec model ...\n",
      "\n",
      "Number of words in the vocabulary list : 3805 \n",
      "\n",
      "Show first 10 words in the vocalbulary list  vocabulary list: \n",
      " ['the', 'i', 'it', 'and', 'phone', 'a', 'to', 'is', 'this', 'for']\n"
     ]
    },
    {
     "name": "stderr",
     "output_type": "stream",
     "text": [
      "<ipython-input-33-c1a1148267f1>:13: DeprecationWarning: Call to deprecated `init_sims` (Gensim 4.0.0 implemented internal optimizations that make calls to init_sims() unnecessary. init_sims() is now obsoleted and will be completely removed in future versions. See https://github.com/RaRe-Technologies/gensim/wiki/Migrating-from-Gensim-3.x-to-4).\n",
      "  w2v.init_sims(replace=True)\n"
     ]
    }
   ],
   "source": [
    "# Fit parsed sentences to Word2Vec model \n",
    "num_features = 300  #embedding dimension                     \n",
    "min_word_count = 10                \n",
    "num_workers = 4       \n",
    "context = 10                                                                                          \n",
    "downsampling = 1e-3 \n",
    "\n",
    "print(\"Training Word2Vec model ...\\n\")\n",
    "w2v = Word2Vec(sentences, workers=num_workers, vector_size=num_features, min_count = min_word_count,\\\n",
    "                 window = context, sample = downsampling)\n",
    "w2v.init_sims(replace=True)\n",
    "w2v.save(\"w2v_model\") #save trained word2vec model\n",
    "\n",
    "print(\"Number of words in the vocabulary list : %d \\n\" %len(w2v.wv.index_to_key ))\n",
    "print(\"Show first 10 words in the vocalbulary list  vocabulary list: \\n\", w2v.wv.index_to_key[0:10])"
   ]
  },
  {
   "cell_type": "code",
   "execution_count": 34,
   "metadata": {
    "id": "-B-HV8h790FJ"
   },
   "outputs": [],
   "source": [
    "# Transfrom the training data into feature vectors\n",
    "def makeFeatureVec(review, model, num_features):\n",
    "    featureVec = np.zeros((num_features,),dtype=\"float32\")\n",
    "    nwords = 0.\n",
    "    index2word_set = set(model.wv.index_to_key) #index2word is the volcabulary list of the Word2Vec model\n",
    "    isZeroVec = True\n",
    "    for word in review:\n",
    "        if word in index2word_set: \n",
    "            nwords = nwords + 1.\n",
    "            featureVec = np.add(featureVec, model.wv.key_to_index[word])\n",
    "            isZeroVec = False\n",
    "    if isZeroVec == False:\n",
    "        featureVec = np.divide(featureVec, nwords)\n",
    "    return featureVec\n",
    "\n",
    "\n",
    "def getAvgFeatureVecs(reviews, model, num_features):\n",
    "    counter = 0\n",
    "    reviewFeatureVecs = np.zeros((len(reviews),num_features),dtype=\"float32\")\n",
    "    for review in reviews:\n",
    "        reviewFeatureVecs[counter] = makeFeatureVec(review, model,num_features)\n",
    "        counter = counter + 1\n",
    "    return reviewFeatureVecs"
   ]
  },
  {
   "cell_type": "code",
   "execution_count": 35,
   "metadata": {
    "id": "dKOpekPW90FJ"
   },
   "outputs": [
    {
     "name": "stderr",
     "output_type": "stream",
     "text": [
      "C:\\ProgramData\\Anaconda3\\lib\\site-packages\\bs4\\__init__.py:414: MarkupResemblesLocatorWarning: \"http://www.amazon.com/gp/product/B0193D539M?redirect=true&ref_=cm_cr_ryp_prd_ttl_sol_0\" looks like a URL. Beautiful Soup is not an HTTP client. You should probably use an HTTP client like requests to get the document behind the URL, and feed that document to Beautiful Soup.\n",
      "  warnings.warn(\n",
      "C:\\ProgramData\\Anaconda3\\lib\\site-packages\\bs4\\__init__.py:414: MarkupResemblesLocatorWarning: \"http://www.amazon.com/gp/product/B013YDFH3Y?redirect=true&ref_=cm_cr_ryp_prd_ttl_sol_0\" looks like a URL. Beautiful Soup is not an HTTP client. You should probably use an HTTP client like requests to get the document behind the URL, and feed that document to Beautiful Soup.\n",
      "  warnings.warn(\n",
      "C:\\ProgramData\\Anaconda3\\lib\\site-packages\\bs4\\__init__.py:414: MarkupResemblesLocatorWarning: \"https://www.amazon.com/dp/B00K15KRV6/ref=cm_cr_ryp_prd_ttl_sol_22\" looks like a URL. Beautiful Soup is not an HTTP client. You should probably use an HTTP client like requests to get the document behind the URL, and feed that document to Beautiful Soup.\n",
      "  warnings.warn(\n"
     ]
    },
    {
     "name": "stdout",
     "output_type": "stream",
     "text": [
      "Training set : 27336 feature vectors with 300 dimensions\n",
      "Validation set : 6835 feature vectors with 300 dimensions\n"
     ]
    }
   ],
   "source": [
    "# Get feature vectors for training set\n",
    "X_train_cleaned = []\n",
    "for review in X_train:\n",
    "    X_train_cleaned.append(cleanText(review, remove_stopwords=True, split_text=True))\n",
    "trainVector = getAvgFeatureVecs(X_train_cleaned, w2v, num_features)\n",
    "print(\"Training set : %d feature vectors with %d dimensions\" %trainVector.shape)\n",
    "\n",
    "\n",
    "# Get feature vectors for validation set\n",
    "X_test_cleaned = []\n",
    "for review in X_test:\n",
    "    X_test_cleaned.append(cleanText(review, remove_stopwords=True, split_text=True))\n",
    "testVector = getAvgFeatureVecs(X_test_cleaned, w2v, num_features)\n",
    "print(\"Validation set : %d feature vectors with %d dimensions\" %testVector.shape)"
   ]
  },
  {
   "cell_type": "code",
   "execution_count": 36,
   "metadata": {
    "id": "cyf3Gzlt90FK"
   },
   "outputs": [
    {
     "name": "stdout",
     "output_type": "stream",
     "text": [
      "\n",
      "Accuracy on validation set: 0.7550\n",
      "\n",
      "AUC score : 0.7070\n",
      "\n",
      "Classification report : \n",
      "               precision    recall  f1-score   support\n",
      "\n",
      "           0       0.63      0.57      0.60      2202\n",
      "           1       0.81      0.84      0.82      4633\n",
      "\n",
      "    accuracy                           0.75      6835\n",
      "   macro avg       0.72      0.71      0.71      6835\n",
      "weighted avg       0.75      0.75      0.75      6835\n",
      "\n",
      "\n",
      "Confusion Matrix : \n",
      " [[1263  939]\n",
      " [ 738 3895]]\n"
     ]
    }
   ],
   "source": [
    "# Random Forest Classifier\n",
    "rf = RandomForestClassifier(n_estimators=100)\n",
    "rf.fit(trainVector, y_train)\n",
    "predictions = rf.predict(testVector)\n",
    "modelEvaluation(predictions)"
   ]
  },
  {
   "cell_type": "code",
   "execution_count": 37,
   "metadata": {
    "id": "ZNHPDIkR90FN"
   },
   "outputs": [
    {
     "name": "stderr",
     "output_type": "stream",
     "text": [
      "C:\\ProgramData\\Anaconda3\\lib\\site-packages\\keras_preprocessing\\text.py:180: UserWarning: The `nb_words` argument in `Tokenizer` has been renamed `num_words`.\n",
      "  warnings.warn('The `nb_words` argument in `Tokenizer` '\n"
     ]
    },
    {
     "name": "stdout",
     "output_type": "stream",
     "text": [
      "X_train shape: (27336, 100)\n",
      "X_test shape: (6835, 100)\n",
      "y_train shape: (27336, 2)\n",
      "y_test shape: (6835, 2)\n"
     ]
    }
   ],
   "source": [
    "top_words = 20000 \n",
    "maxlen = 100 \n",
    "batch_size = 32\n",
    "nb_classes = 2\n",
    "nb_epoch = 3\n",
    "\n",
    "# Vectorize X_train and X_test to 2D tensor\n",
    "tokenizer = Tokenizer(nb_words=top_words)\n",
    "tokenizer.fit_on_texts(X_train)\n",
    "\n",
    "sequences_train = tokenizer.texts_to_sequences(X_train)\n",
    "sequences_test = tokenizer.texts_to_sequences(X_test)\n",
    "\n",
    "X_train_seq = sequence.pad_sequences(sequences_train, maxlen=maxlen)\n",
    "X_test_seq = sequence.pad_sequences(sequences_test, maxlen=maxlen)\n",
    "\n",
    "# one-hot encoding of y_train and y_test\n",
    "y_train_seq = np_utils.to_categorical(y_train, nb_classes)\n",
    "y_test_seq = np_utils.to_categorical(y_test, nb_classes)\n",
    "\n",
    "print('X_train shape:', X_train_seq.shape)\n",
    "print('X_test shape:', X_test_seq.shape) \n",
    "print('y_train shape:', y_train_seq.shape) \n",
    "print('y_test shape:', y_test_seq.shape) "
   ]
  },
  {
   "cell_type": "code",
   "execution_count": 41,
   "metadata": {
    "id": "NKX04KPT90FO"
   },
   "outputs": [
    {
     "name": "stdout",
     "output_type": "stream",
     "text": [
      "Model: \"sequential_1\"\n",
      "_________________________________________________________________\n",
      "Layer (type)                 Output Shape              Param #   \n",
      "=================================================================\n",
      "embedding_1 (Embedding)      (None, None, 128)         2560000   \n",
      "_________________________________________________________________\n",
      "lstm_1 (LSTM)                (None, 128)               131584    \n",
      "_________________________________________________________________\n",
      "dense_1 (Dense)              (None, 2)                 258       \n",
      "_________________________________________________________________\n",
      "activation_1 (Activation)    (None, 2)                 0         \n",
      "=================================================================\n",
      "Total params: 2,691,842\n",
      "Trainable params: 2,691,842\n",
      "Non-trainable params: 0\n",
      "_________________________________________________________________\n",
      "Epoch 1/3\n",
      "855/855 [==============================] - 68s 79ms/step - loss: 0.3236 - accuracy: 0.8650\n",
      "Epoch 2/3\n",
      "855/855 [==============================] - 67s 78ms/step - loss: 0.1894 - accuracy: 0.9324\n",
      "Epoch 3/3\n",
      "855/855 [==============================] - 65s 76ms/step - loss: 0.1376 - accuracy: 0.9526\n",
      "214/214 [==============================] - 4s 17ms/step - loss: 0.2256 - accuracy: 0.9203\n",
      "Test loss : 0.2256\n",
      "Test accuracy : 0.9203\n"
     ]
    }
   ],
   "source": [
    "# Construct a simple LSTM\n",
    "Simple_LSTM = Sequential()\n",
    "Simple_LSTM.add(Embedding(top_words, 128))\n",
    "Simple_LSTM.add(LSTM(128, dropout=0.2)) \n",
    "Simple_LSTM.add(Dense(nb_classes))\n",
    "Simple_LSTM.add(Activation('softmax'))\n",
    "Simple_LSTM.summary()\n",
    "\n",
    "# Compile LSTM\n",
    "Simple_LSTM.compile(loss='binary_crossentropy',\n",
    "              optimizer='adam',\n",
    "              metrics=['accuracy'])\n",
    "\n",
    "Simple_LSTM.fit(X_train_seq, y_train_seq, batch_size=batch_size, epochs=nb_epoch, verbose=1)\n",
    "\n",
    "# Model evluation\n",
    "score = Simple_LSTM.evaluate(X_test_seq, y_test_seq, batch_size=batch_size)\n",
    "print('Test loss : {:.4f}'.format(score[0]))\n",
    "print('Test accuracy : {:.4f}'.format(score[1]))"
   ]
  },
  {
   "cell_type": "code",
   "execution_count": 43,
   "metadata": {
    "id": "80gJNC7890FS"
   },
   "outputs": [
    {
     "name": "stdout",
     "output_type": "stream",
     "text": [
      "Shape of embedding matrix :  (3805, 300)\n"
     ]
    }
   ],
   "source": [
    "# Loading trained Word2Vec model\n",
    "w2v = Word2Vec.load(\"w2v_model\")\n",
    "\n",
    "embedding_matrix = w2v.wv.vectors \n",
    "print(\"Shape of embedding matrix : \", embedding_matrix.shape) "
   ]
  },
  {
   "cell_type": "code",
   "execution_count": 44,
   "metadata": {
    "id": "ByRieLvK90FT"
   },
   "outputs": [
    {
     "name": "stderr",
     "output_type": "stream",
     "text": [
      "C:\\ProgramData\\Anaconda3\\lib\\site-packages\\keras_preprocessing\\text.py:180: UserWarning: The `nb_words` argument in `Tokenizer` has been renamed `num_words`.\n",
      "  warnings.warn('The `nb_words` argument in `Tokenizer` '\n"
     ]
    },
    {
     "name": "stdout",
     "output_type": "stream",
     "text": [
      "X_train shape: (27336, 100)\n",
      "X_test shape: (6835, 100)\n",
      "y_train shape: (27336, 2)\n",
      "y_test shape: (6835, 2)\n"
     ]
    }
   ],
   "source": [
    "top_words = embedding_matrix.shape[0] \n",
    "maxlen = 100 \n",
    "batch_size = 32\n",
    "nb_classes = 2\n",
    "nb_epoch = 3\n",
    "\n",
    "# Vectorize X_train and X_test to 2D tensor\n",
    "tokenizer = Tokenizer(nb_words=top_words) \n",
    "tokenizer.fit_on_texts(X_train)\n",
    "\n",
    "sequences_train = tokenizer.texts_to_sequences(X_train)\n",
    "sequences_test = tokenizer.texts_to_sequences(X_test)\n",
    "\n",
    "X_train_seq = sequence.pad_sequences(sequences_train, maxlen=maxlen)\n",
    "X_test_seq = sequence.pad_sequences(sequences_test, maxlen=maxlen)\n",
    "\n",
    "# one-hot encoding of y_train and y_test\n",
    "y_train_seq = np_utils.to_categorical(y_train, nb_classes)\n",
    "y_test_seq = np_utils.to_categorical(y_test, nb_classes)\n",
    "\n",
    "print('X_train shape:', X_train_seq.shape) \n",
    "print('X_test shape:', X_test_seq.shape) \n",
    "print('y_train shape:', y_train_seq.shape) \n",
    "print('y_test shape:', y_test_seq.shape) "
   ]
  },
  {
   "cell_type": "code",
   "execution_count": 45,
   "metadata": {
    "id": "qhiHSXex90FU"
   },
   "outputs": [
    {
     "name": "stdout",
     "output_type": "stream",
     "text": [
      "Model: \"sequential_3\"\n",
      "_________________________________________________________________\n",
      "Layer (type)                 Output Shape              Param #   \n",
      "=================================================================\n",
      "embedding_3 (Embedding)      (None, None, 300)         1141500   \n",
      "_________________________________________________________________\n",
      "lstm_3 (LSTM)                (None, 128)               219648    \n",
      "_________________________________________________________________\n",
      "dense_3 (Dense)              (None, 2)                 258       \n",
      "_________________________________________________________________\n",
      "activation_3 (Activation)    (None, 2)                 0         \n",
      "=================================================================\n",
      "Total params: 1,361,406\n",
      "Trainable params: 1,361,406\n",
      "Non-trainable params: 0\n",
      "_________________________________________________________________\n",
      "Epoch 1/3\n",
      "855/855 [==============================] - 67s 78ms/step - loss: 0.3137 - accuracy: 0.8674\n",
      "Epoch 2/3\n",
      "855/855 [==============================] - 62s 73ms/step - loss: 0.2055 - accuracy: 0.9240\n",
      "Epoch 3/3\n",
      "855/855 [==============================] - 63s 73ms/step - loss: 0.1550 - accuracy: 0.9440\n",
      "214/214 [==============================] - 4s 21ms/step - loss: 0.2360 - accuracy: 0.9208\n",
      "Test loss : 0.2360\n",
      "Test accuracy : 0.9208\n"
     ]
    }
   ],
   "source": [
    "# Construct Word2Vec embedding layer\n",
    "embedding_layer = Embedding(embedding_matrix.shape[0], \n",
    "                            embedding_matrix.shape[1],\n",
    "                            weights=[embedding_matrix])\n",
    "\n",
    "# Construct LSTM with Word2Vec embedding\n",
    "Embedding_LSTM = Sequential()\n",
    "Embedding_LSTM.add(embedding_layer)\n",
    "Embedding_LSTM.add(LSTM(128, dropout=0.2)) \n",
    "Embedding_LSTM.add(Dense(nb_classes))\n",
    "Embedding_LSTM.add(Activation('softmax'))\n",
    "Embedding_LSTM.summary()\n",
    "\n",
    "# Compile model\n",
    "Embedding_LSTM.compile(loss='binary_crossentropy',\n",
    "              optimizer='adam',\n",
    "              metrics=['accuracy'])\n",
    "\n",
    "Embedding_LSTM.fit(X_train_seq, y_train_seq, batch_size=batch_size, epochs=nb_epoch, verbose=1)\n",
    "\n",
    "# Model evaluation\n",
    "score = Embedding_LSTM.evaluate(X_test_seq, y_test_seq, batch_size=batch_size)\n",
    "print('Test loss : {:.4f}'.format(score[0]))\n",
    "print('Test accuracy : {:.4f}'.format(score[1]))"
   ]
  }
 ],
 "metadata": {
  "colab": {
   "collapsed_sections": [
    "jLQqvKpr90Ez",
    "VE2_o3AQ90E1",
    "ImqMVlrC90FI",
    "rA_iKjcI90FK",
    "_0hbg4Bt90FL",
    "_NeL9Rgz90FQ"
   ],
   "name": "Sentiment Analysis for Product Reviews.ipynb",
   "provenance": []
  },
  "kernelspec": {
   "display_name": "Python 3",
   "language": "python",
   "name": "python3"
  },
  "language_info": {
   "codemirror_mode": {
    "name": "ipython",
    "version": 3
   },
   "file_extension": ".py",
   "mimetype": "text/x-python",
   "name": "python",
   "nbconvert_exporter": "python",
   "pygments_lexer": "ipython3",
   "version": "3.8.3"
  }
 },
 "nbformat": 4,
 "nbformat_minor": 1
}
